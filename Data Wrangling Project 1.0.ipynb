{
 "cells": [
  {
   "cell_type": "markdown",
   "metadata": {},
   "source": [
    "# Data Wrangling Project 1.0\n",
    "### Thanasak Harisombut\n",
    "\n",
    "Date: 01/11/2020\n",
    "\n",
    "Version: 1.0\n",
    "\n",
    "Environment: Python 3.7.4 and Jupyter notebook\n",
    "\n",
    "### Libraries used:\n",
    "* pandas (for data frame and operate some basic function such describe, filter, and count, included in Anaconda Python 3.7) \n",
    "* numpy (for using mathematical function such as log, power, mean, and included in Anaconda Python 3.7)\n",
    "* sklearn (for scaling data, included in Anaconda Python 3.7)\n",
    "* math (for calculting distance such radians, sin, included in Anaconda Python 3.7)\n",
    "* scipy.stats (for making q-q plot, included in Anaconda Python 3.7)\n",
    "* BeautifulSoup (for loading html dataset, included in Anaconda Python 3.7)\n",
    "* xml.etree.ElementTree (for loading xml dataset, included in Anaconda Python 3.7)\n",
    "* shapely (for dealing with geometrical data, included in Anaconda Python 3.7)\n",
    "* shapefile (for loading shape file, included in Anaconda Python 3.7)\n",
    "* pdfminer (for converting pdf file to text file)\n",
    "* matplotlib (for plotting visualisation, included in Anaconda Python 3.7)\n"
   ]
  },
  {
   "cell_type": "markdown",
   "metadata": {},
   "source": [
    "## Introduction\n",
    "\n",
    "This project requires to understand various formats of input file, integration process and reshape data which are considibly important for datascientists. To complete it, I have broken down processes as shown below:\n",
    "\n",
    "1. [Initital process](#1)\n",
    "2. [Task 1: Data Integration](#2)\n",
    "  1. [Load datasets from different formats](#2.1)\n",
    "  2. [Integrate real estate dataframes](#2.2)\n",
    "  3. [Check duplicated data](#2.3)\n",
    "  4. [Assign suburb via shape file data](#2.4)\n",
    "  5. [Create functions to Find nearest place and calculate distance](#2.5)\n",
    "  6. [Integrate shopping center data](#2.6)\n",
    "  7. [Integrate Melbourne train data](#2.7)\n",
    "    1. [Find nearest train station and calculate distance](#2.7.1)\n",
    "    2. [Calculate time travel and transfer flag](#2.7.2)\n",
    "  8. [Integrate hospitals data](#2.8)\n",
    "  9. [Integrate Supermarkets data](#2.9)\n",
    "  10. [Write output file](#2.10)\n",
    "3. [Task 2: data reshaping](#3)\n",
    "  1. [Transformation](#3.1)\n",
    "  2. [Standardisation](#3.2)\n",
    "  3. [Summary](#3.3)\n",
    "4. [Conclusion](#4)\n",
    "\n"
   ]
  },
  {
   "cell_type": "markdown",
   "metadata": {},
   "source": [
    "# 1. Initial Process <a class=\"anchor\" name=\"1\"></a>\n",
    "### Import libraries \n"
   ]
  },
  {
   "cell_type": "code",
   "execution_count": 1,
   "metadata": {},
   "outputs": [],
   "source": [
    "# Import libraries\n",
    "import pandas as pd\n",
    "import numpy as np\n",
    "from bs4 import BeautifulSoup\n",
    "import xml.etree.ElementTree as ET\n",
    "# !pip install shapely\n",
    "from shapely.geometry import Point\n",
    "from shapely.geometry.polygon import Polygon\n",
    "import shapefile\n",
    "import math\n",
    "from matplotlib import pyplot as plt\n",
    "import scipy.stats as stats\n",
    "from sklearn import preprocessing\n",
    "\n",
    "import warnings; warnings.simplefilter('ignore')"
   ]
  },
  {
   "cell_type": "markdown",
   "metadata": {},
   "source": [
    "# 2. Task 1: Data Integration <a class=\"anchor\" name=\"2\"></a>"
   ]
  },
  {
   "cell_type": "markdown",
   "metadata": {},
   "source": [
    "In this task, we are required to integrate the 7 given datasets into a proper structure and the files were given in different extensions as follows:\n",
    "\n",
    "- Hospitals dataset: hospitals.xlsx\n",
    "- Supermarkets dataset: supermarkets.html\n",
    "- Shopping centers dataset: shopingcenters.pdf\n",
    "- Real estate dataset: real_state.json and real_state.xml\n",
    "- Victoria shapefile: Vic_suburb_boundary\n",
    "- Melbourne train data: GTFS_Melbourne_Train_Information\n",
    "\n",
    "First, I'll load all datasets into pandas dataframe also combine and set appropriate datatypes.\n",
    "\n",
    "## 2.1 Load datasets from different formats<a class=\"anchor\" name=\"2.1\"></a>"
   ]
  },
  {
   "cell_type": "markdown",
   "metadata": {},
   "source": [
    "### real state json"
   ]
  },
  {
   "cell_type": "code",
   "execution_count": 2,
   "metadata": {
    "scrolled": true
   },
   "outputs": [],
   "source": [
    "# load json data \n",
    "f = open(\"real_state.json\", \"r\")\n",
    "json = f.read()\n",
    "\n",
    "# convert json data to pandas dataframe\n",
    "real_state_json_df = pd.read_json(json)\n"
   ]
  },
  {
   "cell_type": "markdown",
   "metadata": {},
   "source": [
    "### real state xml"
   ]
  },
  {
   "cell_type": "code",
   "execution_count": 3,
   "metadata": {},
   "outputs": [],
   "source": [
    "# function to convert xml data into Pandas dataframe\n",
    "def xmlToDF(xml):\n",
    "    # initial varibles\n",
    "    etree = ET.fromstring(xml)\n",
    "    cols = [e.tag for e in etree.getchildren()]\n",
    "    data = {}\n",
    "    \n",
    "    # each columns\n",
    "    for c in cols:\n",
    "        data[c] = []\n",
    "        \n",
    "        # extract children in tag and store\n",
    "        elements = etree.find(c).getchildren()\n",
    "        for e in elements:\n",
    "            data[c].append(e.text)\n",
    "    \n",
    "    return pd.DataFrame.from_dict(data)\n",
    "\n",
    "# load data from file\n",
    "f = open(\"real_state.xml\", \"r\")\n",
    "xml_content = f.read()\n",
    "\n",
    "# call function to convert xml string to pandas dataframe\n",
    "real_state_xml_df = xmlToDF(xml_content[2:-1])"
   ]
  },
  {
   "cell_type": "markdown",
   "metadata": {},
   "source": [
    "## 2.2 Integrate real estate dataframes<a class=\"anchor\" name=\"2.2\"></a>"
   ]
  },
  {
   "cell_type": "code",
   "execution_count": 4,
   "metadata": {},
   "outputs": [],
   "source": [
    "# integrate all major dataframes\n",
    "df = pd.concat([real_state_json_df, real_state_xml_df])\n",
    "\n",
    "# reset index of dataframe\n",
    "df.reset_index(drop=True, inplace=True)"
   ]
  },
  {
   "cell_type": "code",
   "execution_count": 5,
   "metadata": {},
   "outputs": [],
   "source": [
    "# assign datatypes to integrated dataframe\n",
    "df = df.astype({'lat': float, \n",
    "           'lng': float,\n",
    "           'price': int, \n",
    "           'year':int, \n",
    "           'bedrooms':int, \n",
    "           'bathrooms':int, \n",
    "           'parking_space':int\n",
    "          })"
   ]
  },
  {
   "cell_type": "markdown",
   "metadata": {},
   "source": [
    "### Check result"
   ]
  },
  {
   "cell_type": "code",
   "execution_count": 6,
   "metadata": {},
   "outputs": [
    {
     "name": "stdout",
     "output_type": "stream",
     "text": [
      "Number of records: 2008\n"
     ]
    },
    {
     "data": {
      "text/html": [
       "<div>\n",
       "<style scoped>\n",
       "    .dataframe tbody tr th:only-of-type {\n",
       "        vertical-align: middle;\n",
       "    }\n",
       "\n",
       "    .dataframe tbody tr th {\n",
       "        vertical-align: top;\n",
       "    }\n",
       "\n",
       "    .dataframe thead th {\n",
       "        text-align: right;\n",
       "    }\n",
       "</style>\n",
       "<table border=\"1\" class=\"dataframe\">\n",
       "  <thead>\n",
       "    <tr style=\"text-align: right;\">\n",
       "      <th></th>\n",
       "      <th>property_id</th>\n",
       "      <th>lat</th>\n",
       "      <th>lng</th>\n",
       "      <th>addr_street</th>\n",
       "      <th>price</th>\n",
       "      <th>property_type</th>\n",
       "      <th>year</th>\n",
       "      <th>bedrooms</th>\n",
       "      <th>bathrooms</th>\n",
       "      <th>parking_space</th>\n",
       "    </tr>\n",
       "  </thead>\n",
       "  <tbody>\n",
       "    <tr>\n",
       "      <td>0</td>\n",
       "      <td>17443</td>\n",
       "      <td>-37.698763</td>\n",
       "      <td>144.904939</td>\n",
       "      <td>55 Moonee Boulevard</td>\n",
       "      <td>5460000</td>\n",
       "      <td>house</td>\n",
       "      <td>2009</td>\n",
       "      <td>3</td>\n",
       "      <td>1</td>\n",
       "      <td>1</td>\n",
       "    </tr>\n",
       "    <tr>\n",
       "      <td>1</td>\n",
       "      <td>16783</td>\n",
       "      <td>-37.713242</td>\n",
       "      <td>144.947375</td>\n",
       "      <td>20 Talbot Street</td>\n",
       "      <td>5380000</td>\n",
       "      <td>house</td>\n",
       "      <td>2014</td>\n",
       "      <td>5</td>\n",
       "      <td>3</td>\n",
       "      <td>3</td>\n",
       "    </tr>\n",
       "    <tr>\n",
       "      <td>2</td>\n",
       "      <td>30499</td>\n",
       "      <td>-37.768795</td>\n",
       "      <td>144.992139</td>\n",
       "      <td>91 Arthurton Road</td>\n",
       "      <td>12600000</td>\n",
       "      <td>house</td>\n",
       "      <td>2016</td>\n",
       "      <td>3</td>\n",
       "      <td>2</td>\n",
       "      <td>1</td>\n",
       "    </tr>\n",
       "    <tr>\n",
       "      <td>3</td>\n",
       "      <td>35191</td>\n",
       "      <td>-37.703586</td>\n",
       "      <td>145.011277</td>\n",
       "      <td>54 Pickett Street</td>\n",
       "      <td>8190000</td>\n",
       "      <td>house</td>\n",
       "      <td>2016</td>\n",
       "      <td>3</td>\n",
       "      <td>1</td>\n",
       "      <td>1</td>\n",
       "    </tr>\n",
       "    <tr>\n",
       "      <td>4</td>\n",
       "      <td>24435</td>\n",
       "      <td>-37.711983</td>\n",
       "      <td>144.968473</td>\n",
       "      <td>48A Mutton Road</td>\n",
       "      <td>7350000</td>\n",
       "      <td>house</td>\n",
       "      <td>2010</td>\n",
       "      <td>3</td>\n",
       "      <td>2</td>\n",
       "      <td>1</td>\n",
       "    </tr>\n",
       "  </tbody>\n",
       "</table>\n",
       "</div>"
      ],
      "text/plain": [
       "  property_id        lat         lng          addr_street     price  \\\n",
       "0       17443 -37.698763  144.904939  55 Moonee Boulevard   5460000   \n",
       "1       16783 -37.713242  144.947375     20 Talbot Street   5380000   \n",
       "2       30499 -37.768795  144.992139    91 Arthurton Road  12600000   \n",
       "3       35191 -37.703586  145.011277    54 Pickett Street   8190000   \n",
       "4       24435 -37.711983  144.968473      48A Mutton Road   7350000   \n",
       "\n",
       "  property_type  year  bedrooms  bathrooms  parking_space  \n",
       "0         house  2009         3          1              1  \n",
       "1         house  2014         5          3              3  \n",
       "2         house  2016         3          2              1  \n",
       "3         house  2016         3          1              1  \n",
       "4         house  2010         3          2              1  "
      ]
     },
     "execution_count": 6,
     "metadata": {},
     "output_type": "execute_result"
    }
   ],
   "source": [
    "# check the result\n",
    "print('Number of records:', len(df))\n",
    "df.head()\n"
   ]
  },
  {
   "cell_type": "markdown",
   "metadata": {},
   "source": [
    "## 2.3 Check duplicated records<a class=\"anchor\" name=\"2.3\"></a>"
   ]
  },
  {
   "cell_type": "code",
   "execution_count": 7,
   "metadata": {
    "scrolled": true
   },
   "outputs": [
    {
     "data": {
      "text/html": [
       "<div>\n",
       "<style scoped>\n",
       "    .dataframe tbody tr th:only-of-type {\n",
       "        vertical-align: middle;\n",
       "    }\n",
       "\n",
       "    .dataframe tbody tr th {\n",
       "        vertical-align: top;\n",
       "    }\n",
       "\n",
       "    .dataframe thead th {\n",
       "        text-align: right;\n",
       "    }\n",
       "</style>\n",
       "<table border=\"1\" class=\"dataframe\">\n",
       "  <thead>\n",
       "    <tr style=\"text-align: right;\">\n",
       "      <th></th>\n",
       "      <th>property_id</th>\n",
       "      <th>lat</th>\n",
       "      <th>lng</th>\n",
       "      <th>addr_street</th>\n",
       "      <th>price</th>\n",
       "      <th>property_type</th>\n",
       "      <th>year</th>\n",
       "      <th>bedrooms</th>\n",
       "      <th>bathrooms</th>\n",
       "      <th>parking_space</th>\n",
       "    </tr>\n",
       "  </thead>\n",
       "  <tbody>\n",
       "    <tr>\n",
       "      <td>6</td>\n",
       "      <td>91118</td>\n",
       "      <td>-37.972904</td>\n",
       "      <td>145.036312</td>\n",
       "      <td>1 McDonald Street</td>\n",
       "      <td>22100000</td>\n",
       "      <td>house</td>\n",
       "      <td>2014</td>\n",
       "      <td>3</td>\n",
       "      <td>2</td>\n",
       "      <td>2</td>\n",
       "    </tr>\n",
       "    <tr>\n",
       "      <td>1994</td>\n",
       "      <td>91118</td>\n",
       "      <td>-37.972904</td>\n",
       "      <td>145.036312</td>\n",
       "      <td>1 McDonald Street</td>\n",
       "      <td>22100000</td>\n",
       "      <td>house</td>\n",
       "      <td>2014</td>\n",
       "      <td>3</td>\n",
       "      <td>2</td>\n",
       "      <td>2</td>\n",
       "    </tr>\n",
       "    <tr>\n",
       "      <td>9</td>\n",
       "      <td>83458</td>\n",
       "      <td>-37.856960</td>\n",
       "      <td>145.002701</td>\n",
       "      <td>12/4 Rae Court</td>\n",
       "      <td>3591000</td>\n",
       "      <td>house</td>\n",
       "      <td>2008</td>\n",
       "      <td>1</td>\n",
       "      <td>1</td>\n",
       "      <td>1</td>\n",
       "    </tr>\n",
       "    <tr>\n",
       "      <td>1997</td>\n",
       "      <td>83458</td>\n",
       "      <td>-37.856960</td>\n",
       "      <td>145.002701</td>\n",
       "      <td>12/4 Rae Court</td>\n",
       "      <td>3591000</td>\n",
       "      <td>house</td>\n",
       "      <td>2008</td>\n",
       "      <td>1</td>\n",
       "      <td>1</td>\n",
       "      <td>1</td>\n",
       "    </tr>\n",
       "    <tr>\n",
       "      <td>13</td>\n",
       "      <td>92757</td>\n",
       "      <td>-38.000248</td>\n",
       "      <td>145.081278</td>\n",
       "      <td>15 Royal Parade</td>\n",
       "      <td>12400000</td>\n",
       "      <td>house</td>\n",
       "      <td>2015</td>\n",
       "      <td>4</td>\n",
       "      <td>2</td>\n",
       "      <td>3</td>\n",
       "    </tr>\n",
       "    <tr>\n",
       "      <td>2001</td>\n",
       "      <td>92757</td>\n",
       "      <td>-38.000248</td>\n",
       "      <td>145.081278</td>\n",
       "      <td>15 Royal Parade</td>\n",
       "      <td>12400000</td>\n",
       "      <td>house</td>\n",
       "      <td>2015</td>\n",
       "      <td>4</td>\n",
       "      <td>2</td>\n",
       "      <td>3</td>\n",
       "    </tr>\n",
       "    <tr>\n",
       "      <td>853</td>\n",
       "      <td>61344</td>\n",
       "      <td>-37.780513</td>\n",
       "      <td>145.251059</td>\n",
       "      <td>155 Plymouth Road</td>\n",
       "      <td>5313000</td>\n",
       "      <td>house</td>\n",
       "      <td>2012</td>\n",
       "      <td>3</td>\n",
       "      <td>1</td>\n",
       "      <td>0</td>\n",
       "    </tr>\n",
       "    <tr>\n",
       "      <td>1382</td>\n",
       "      <td>61344</td>\n",
       "      <td>-37.780513</td>\n",
       "      <td>145.251059</td>\n",
       "      <td>155 Plymouth Road</td>\n",
       "      <td>5313000</td>\n",
       "      <td>house</td>\n",
       "      <td>2012</td>\n",
       "      <td>3</td>\n",
       "      <td>1</td>\n",
       "      <td>0</td>\n",
       "    </tr>\n",
       "    <tr>\n",
       "      <td>15</td>\n",
       "      <td>4958</td>\n",
       "      <td>-37.868707</td>\n",
       "      <td>144.824481</td>\n",
       "      <td>17 Romawi Street</td>\n",
       "      <td>4592000</td>\n",
       "      <td>house</td>\n",
       "      <td>2010</td>\n",
       "      <td>4</td>\n",
       "      <td>3</td>\n",
       "      <td>2</td>\n",
       "    </tr>\n",
       "    <tr>\n",
       "      <td>2003</td>\n",
       "      <td>4958</td>\n",
       "      <td>-37.868707</td>\n",
       "      <td>144.824481</td>\n",
       "      <td>17 Romawi Street</td>\n",
       "      <td>4592000</td>\n",
       "      <td>house</td>\n",
       "      <td>2010</td>\n",
       "      <td>4</td>\n",
       "      <td>3</td>\n",
       "      <td>2</td>\n",
       "    </tr>\n",
       "    <tr>\n",
       "      <td>19</td>\n",
       "      <td>57100</td>\n",
       "      <td>-37.828214</td>\n",
       "      <td>145.078467</td>\n",
       "      <td>19 Logan Street</td>\n",
       "      <td>29510000</td>\n",
       "      <td>house</td>\n",
       "      <td>2010</td>\n",
       "      <td>4</td>\n",
       "      <td>3</td>\n",
       "      <td>2</td>\n",
       "    </tr>\n",
       "    <tr>\n",
       "      <td>2007</td>\n",
       "      <td>57100</td>\n",
       "      <td>-37.828214</td>\n",
       "      <td>145.078467</td>\n",
       "      <td>19 Logan Street</td>\n",
       "      <td>29510000</td>\n",
       "      <td>house</td>\n",
       "      <td>2010</td>\n",
       "      <td>4</td>\n",
       "      <td>3</td>\n",
       "      <td>2</td>\n",
       "    </tr>\n",
       "    <tr>\n",
       "      <td>1</td>\n",
       "      <td>16783</td>\n",
       "      <td>-37.713242</td>\n",
       "      <td>144.947375</td>\n",
       "      <td>20 Talbot Street</td>\n",
       "      <td>5380000</td>\n",
       "      <td>house</td>\n",
       "      <td>2014</td>\n",
       "      <td>5</td>\n",
       "      <td>3</td>\n",
       "      <td>3</td>\n",
       "    </tr>\n",
       "    <tr>\n",
       "      <td>1989</td>\n",
       "      <td>16783</td>\n",
       "      <td>-37.713242</td>\n",
       "      <td>144.947375</td>\n",
       "      <td>20 Talbot Street</td>\n",
       "      <td>5380000</td>\n",
       "      <td>house</td>\n",
       "      <td>2014</td>\n",
       "      <td>5</td>\n",
       "      <td>3</td>\n",
       "      <td>3</td>\n",
       "    </tr>\n",
       "    <tr>\n",
       "      <td>338</td>\n",
       "      <td>75916</td>\n",
       "      <td>-37.897888</td>\n",
       "      <td>145.096970</td>\n",
       "      <td>20 Tamar Grove</td>\n",
       "      <td>12240000</td>\n",
       "      <td>house</td>\n",
       "      <td>2009</td>\n",
       "      <td>1</td>\n",
       "      <td>1</td>\n",
       "      <td>0</td>\n",
       "    </tr>\n",
       "    <tr>\n",
       "      <td>1493</td>\n",
       "      <td>75916</td>\n",
       "      <td>-37.897888</td>\n",
       "      <td>145.096970</td>\n",
       "      <td>20 Tamar Grove</td>\n",
       "      <td>12240000</td>\n",
       "      <td>house</td>\n",
       "      <td>2009</td>\n",
       "      <td>1</td>\n",
       "      <td>1</td>\n",
       "      <td>0</td>\n",
       "    </tr>\n",
       "    <tr>\n",
       "      <td>62</td>\n",
       "      <td>37085</td>\n",
       "      <td>-37.634332</td>\n",
       "      <td>145.040398</td>\n",
       "      <td>22 Chettam Street</td>\n",
       "      <td>6440000</td>\n",
       "      <td>house</td>\n",
       "      <td>2016</td>\n",
       "      <td>4</td>\n",
       "      <td>2</td>\n",
       "      <td>2</td>\n",
       "    </tr>\n",
       "    <tr>\n",
       "      <td>1831</td>\n",
       "      <td>37085</td>\n",
       "      <td>-37.634332</td>\n",
       "      <td>145.040398</td>\n",
       "      <td>22 Chettam Street</td>\n",
       "      <td>6440000</td>\n",
       "      <td>house</td>\n",
       "      <td>2016</td>\n",
       "      <td>4</td>\n",
       "      <td>2</td>\n",
       "      <td>2</td>\n",
       "    </tr>\n",
       "    <tr>\n",
       "      <td>7</td>\n",
       "      <td>11787</td>\n",
       "      <td>-37.714430</td>\n",
       "      <td>144.830954</td>\n",
       "      <td>24 Borrell Street</td>\n",
       "      <td>8175000</td>\n",
       "      <td>house</td>\n",
       "      <td>2009</td>\n",
       "      <td>3</td>\n",
       "      <td>1</td>\n",
       "      <td>3</td>\n",
       "    </tr>\n",
       "    <tr>\n",
       "      <td>1995</td>\n",
       "      <td>11787</td>\n",
       "      <td>-37.714430</td>\n",
       "      <td>144.830954</td>\n",
       "      <td>24 Borrell Street</td>\n",
       "      <td>8175000</td>\n",
       "      <td>house</td>\n",
       "      <td>2009</td>\n",
       "      <td>3</td>\n",
       "      <td>1</td>\n",
       "      <td>3</td>\n",
       "    </tr>\n",
       "    <tr>\n",
       "      <td>11</td>\n",
       "      <td>19381</td>\n",
       "      <td>-37.661851</td>\n",
       "      <td>144.934087</td>\n",
       "      <td>27 Bushfield Crescent</td>\n",
       "      <td>4320000</td>\n",
       "      <td>house</td>\n",
       "      <td>2011</td>\n",
       "      <td>3</td>\n",
       "      <td>1</td>\n",
       "      <td>2</td>\n",
       "    </tr>\n",
       "    <tr>\n",
       "      <td>1999</td>\n",
       "      <td>19381</td>\n",
       "      <td>-37.661851</td>\n",
       "      <td>144.934087</td>\n",
       "      <td>27 Bushfield Crescent</td>\n",
       "      <td>4320000</td>\n",
       "      <td>house</td>\n",
       "      <td>2011</td>\n",
       "      <td>3</td>\n",
       "      <td>1</td>\n",
       "      <td>2</td>\n",
       "    </tr>\n",
       "    <tr>\n",
       "      <td>940</td>\n",
       "      <td>4340</td>\n",
       "      <td>-37.839888</td>\n",
       "      <td>144.866283</td>\n",
       "      <td>3 Gordon Street</td>\n",
       "      <td>13200000</td>\n",
       "      <td>house</td>\n",
       "      <td>2015</td>\n",
       "      <td>4</td>\n",
       "      <td>2</td>\n",
       "      <td>3</td>\n",
       "    </tr>\n",
       "    <tr>\n",
       "      <td>1222</td>\n",
       "      <td>4340</td>\n",
       "      <td>-37.839888</td>\n",
       "      <td>144.866283</td>\n",
       "      <td>3 Gordon Street</td>\n",
       "      <td>13200000</td>\n",
       "      <td>house</td>\n",
       "      <td>2015</td>\n",
       "      <td>4</td>\n",
       "      <td>2</td>\n",
       "      <td>3</td>\n",
       "    </tr>\n",
       "    <tr>\n",
       "      <td>16</td>\n",
       "      <td>17156</td>\n",
       "      <td>-37.702599</td>\n",
       "      <td>144.924023</td>\n",
       "      <td>38 Widford Street</td>\n",
       "      <td>7200000</td>\n",
       "      <td>house</td>\n",
       "      <td>2013</td>\n",
       "      <td>2</td>\n",
       "      <td>1</td>\n",
       "      <td>0</td>\n",
       "    </tr>\n",
       "    <tr>\n",
       "      <td>2004</td>\n",
       "      <td>17156</td>\n",
       "      <td>-37.702599</td>\n",
       "      <td>144.924023</td>\n",
       "      <td>38 Widford Street</td>\n",
       "      <td>7200000</td>\n",
       "      <td>house</td>\n",
       "      <td>2013</td>\n",
       "      <td>2</td>\n",
       "      <td>1</td>\n",
       "      <td>0</td>\n",
       "    </tr>\n",
       "    <tr>\n",
       "      <td>135</td>\n",
       "      <td>51372</td>\n",
       "      <td>-37.783713</td>\n",
       "      <td>145.101935</td>\n",
       "      <td>4 Koonung Court</td>\n",
       "      <td>5976000</td>\n",
       "      <td>house</td>\n",
       "      <td>2010</td>\n",
       "      <td>3</td>\n",
       "      <td>1</td>\n",
       "      <td>3</td>\n",
       "    </tr>\n",
       "    <tr>\n",
       "      <td>278</td>\n",
       "      <td>51372</td>\n",
       "      <td>-37.783713</td>\n",
       "      <td>145.101935</td>\n",
       "      <td>4 Koonung Court</td>\n",
       "      <td>5976000</td>\n",
       "      <td>house</td>\n",
       "      <td>2010</td>\n",
       "      <td>3</td>\n",
       "      <td>1</td>\n",
       "      <td>3</td>\n",
       "    </tr>\n",
       "    <tr>\n",
       "      <td>12</td>\n",
       "      <td>22765</td>\n",
       "      <td>-37.740895</td>\n",
       "      <td>144.959750</td>\n",
       "      <td>40 Nelson Street</td>\n",
       "      <td>8964000</td>\n",
       "      <td>house</td>\n",
       "      <td>2016</td>\n",
       "      <td>3</td>\n",
       "      <td>2</td>\n",
       "      <td>1</td>\n",
       "    </tr>\n",
       "    <tr>\n",
       "      <td>2000</td>\n",
       "      <td>22765</td>\n",
       "      <td>-37.740895</td>\n",
       "      <td>144.959750</td>\n",
       "      <td>40 Nelson Street</td>\n",
       "      <td>8964000</td>\n",
       "      <td>house</td>\n",
       "      <td>2016</td>\n",
       "      <td>3</td>\n",
       "      <td>2</td>\n",
       "      <td>1</td>\n",
       "    </tr>\n",
       "    <tr>\n",
       "      <td>265</td>\n",
       "      <td>43173</td>\n",
       "      <td>-37.719516</td>\n",
       "      <td>145.076594</td>\n",
       "      <td>49 Stewart Terrace</td>\n",
       "      <td>3760000</td>\n",
       "      <td>house</td>\n",
       "      <td>2009</td>\n",
       "      <td>2</td>\n",
       "      <td>1</td>\n",
       "      <td>2</td>\n",
       "    </tr>\n",
       "    <tr>\n",
       "      <td>925</td>\n",
       "      <td>43173</td>\n",
       "      <td>-37.719516</td>\n",
       "      <td>145.076594</td>\n",
       "      <td>49 Stewart Terrace</td>\n",
       "      <td>3760000</td>\n",
       "      <td>house</td>\n",
       "      <td>2009</td>\n",
       "      <td>2</td>\n",
       "      <td>1</td>\n",
       "      <td>2</td>\n",
       "    </tr>\n",
       "    <tr>\n",
       "      <td>18</td>\n",
       "      <td>70159</td>\n",
       "      <td>-37.868579</td>\n",
       "      <td>145.078651</td>\n",
       "      <td>5 Nicholas Street</td>\n",
       "      <td>17420000</td>\n",
       "      <td>house</td>\n",
       "      <td>2016</td>\n",
       "      <td>3</td>\n",
       "      <td>1</td>\n",
       "      <td>1</td>\n",
       "    </tr>\n",
       "    <tr>\n",
       "      <td>2006</td>\n",
       "      <td>70159</td>\n",
       "      <td>-37.868579</td>\n",
       "      <td>145.078651</td>\n",
       "      <td>5 Nicholas Street</td>\n",
       "      <td>17420000</td>\n",
       "      <td>house</td>\n",
       "      <td>2016</td>\n",
       "      <td>3</td>\n",
       "      <td>1</td>\n",
       "      <td>1</td>\n",
       "    </tr>\n",
       "    <tr>\n",
       "      <td>190</td>\n",
       "      <td>73783</td>\n",
       "      <td>-37.844034</td>\n",
       "      <td>145.298341</td>\n",
       "      <td>5 Pope Avenue</td>\n",
       "      <td>8517000</td>\n",
       "      <td>house</td>\n",
       "      <td>2013</td>\n",
       "      <td>4</td>\n",
       "      <td>2</td>\n",
       "      <td>2</td>\n",
       "    </tr>\n",
       "    <tr>\n",
       "      <td>1034</td>\n",
       "      <td>73783</td>\n",
       "      <td>-37.844034</td>\n",
       "      <td>145.298341</td>\n",
       "      <td>5 Pope Avenue</td>\n",
       "      <td>8517000</td>\n",
       "      <td>house</td>\n",
       "      <td>2013</td>\n",
       "      <td>4</td>\n",
       "      <td>2</td>\n",
       "      <td>2</td>\n",
       "    </tr>\n",
       "    <tr>\n",
       "      <td>10</td>\n",
       "      <td>27193</td>\n",
       "      <td>-37.604355</td>\n",
       "      <td>144.911939</td>\n",
       "      <td>5/41-43 Pearl Drive</td>\n",
       "      <td>2970000</td>\n",
       "      <td>house</td>\n",
       "      <td>2015</td>\n",
       "      <td>2</td>\n",
       "      <td>1</td>\n",
       "      <td>1</td>\n",
       "    </tr>\n",
       "    <tr>\n",
       "      <td>1998</td>\n",
       "      <td>27193</td>\n",
       "      <td>-37.604355</td>\n",
       "      <td>144.911939</td>\n",
       "      <td>5/41-43 Pearl Drive</td>\n",
       "      <td>2970000</td>\n",
       "      <td>house</td>\n",
       "      <td>2015</td>\n",
       "      <td>2</td>\n",
       "      <td>1</td>\n",
       "      <td>1</td>\n",
       "    </tr>\n",
       "    <tr>\n",
       "      <td>3</td>\n",
       "      <td>35191</td>\n",
       "      <td>-37.703586</td>\n",
       "      <td>145.011277</td>\n",
       "      <td>54 Pickett Street</td>\n",
       "      <td>8190000</td>\n",
       "      <td>house</td>\n",
       "      <td>2016</td>\n",
       "      <td>3</td>\n",
       "      <td>1</td>\n",
       "      <td>1</td>\n",
       "    </tr>\n",
       "    <tr>\n",
       "      <td>1991</td>\n",
       "      <td>35191</td>\n",
       "      <td>-37.703586</td>\n",
       "      <td>145.011277</td>\n",
       "      <td>54 Pickett Street</td>\n",
       "      <td>8190000</td>\n",
       "      <td>house</td>\n",
       "      <td>2016</td>\n",
       "      <td>3</td>\n",
       "      <td>1</td>\n",
       "      <td>1</td>\n",
       "    </tr>\n",
       "    <tr>\n",
       "      <td>8</td>\n",
       "      <td>17478</td>\n",
       "      <td>-37.714449</td>\n",
       "      <td>144.943814</td>\n",
       "      <td>58 South Street</td>\n",
       "      <td>4014000</td>\n",
       "      <td>house</td>\n",
       "      <td>2011</td>\n",
       "      <td>3</td>\n",
       "      <td>1</td>\n",
       "      <td>1</td>\n",
       "    </tr>\n",
       "    <tr>\n",
       "      <td>1996</td>\n",
       "      <td>17478</td>\n",
       "      <td>-37.714449</td>\n",
       "      <td>144.943814</td>\n",
       "      <td>58 South Street</td>\n",
       "      <td>4014000</td>\n",
       "      <td>house</td>\n",
       "      <td>2011</td>\n",
       "      <td>3</td>\n",
       "      <td>1</td>\n",
       "      <td>1</td>\n",
       "    </tr>\n",
       "    <tr>\n",
       "      <td>764</td>\n",
       "      <td>10845</td>\n",
       "      <td>-37.792538</td>\n",
       "      <td>144.932780</td>\n",
       "      <td>74 Collett Street</td>\n",
       "      <td>12800000</td>\n",
       "      <td>house</td>\n",
       "      <td>2016</td>\n",
       "      <td>2</td>\n",
       "      <td>1</td>\n",
       "      <td>0</td>\n",
       "    </tr>\n",
       "    <tr>\n",
       "      <td>1291</td>\n",
       "      <td>10845</td>\n",
       "      <td>-37.792538</td>\n",
       "      <td>144.932780</td>\n",
       "      <td>74 Collett Street</td>\n",
       "      <td>12800000</td>\n",
       "      <td>house</td>\n",
       "      <td>2016</td>\n",
       "      <td>2</td>\n",
       "      <td>1</td>\n",
       "      <td>0</td>\n",
       "    </tr>\n",
       "    <tr>\n",
       "      <td>912</td>\n",
       "      <td>17849</td>\n",
       "      <td>-37.706824</td>\n",
       "      <td>144.952721</td>\n",
       "      <td>9 Staples Court</td>\n",
       "      <td>7007000</td>\n",
       "      <td>house</td>\n",
       "      <td>2015</td>\n",
       "      <td>3</td>\n",
       "      <td>1</td>\n",
       "      <td>2</td>\n",
       "    </tr>\n",
       "    <tr>\n",
       "      <td>1331</td>\n",
       "      <td>17849</td>\n",
       "      <td>-37.706824</td>\n",
       "      <td>144.952721</td>\n",
       "      <td>9 Staples Court</td>\n",
       "      <td>7007000</td>\n",
       "      <td>house</td>\n",
       "      <td>2015</td>\n",
       "      <td>3</td>\n",
       "      <td>1</td>\n",
       "      <td>2</td>\n",
       "    </tr>\n",
       "  </tbody>\n",
       "</table>\n",
       "</div>"
      ],
      "text/plain": [
       "     property_id        lat         lng            addr_street     price  \\\n",
       "6          91118 -37.972904  145.036312      1 McDonald Street  22100000   \n",
       "1994       91118 -37.972904  145.036312      1 McDonald Street  22100000   \n",
       "9          83458 -37.856960  145.002701         12/4 Rae Court   3591000   \n",
       "1997       83458 -37.856960  145.002701         12/4 Rae Court   3591000   \n",
       "13         92757 -38.000248  145.081278        15 Royal Parade  12400000   \n",
       "2001       92757 -38.000248  145.081278        15 Royal Parade  12400000   \n",
       "853        61344 -37.780513  145.251059      155 Plymouth Road   5313000   \n",
       "1382       61344 -37.780513  145.251059      155 Plymouth Road   5313000   \n",
       "15          4958 -37.868707  144.824481       17 Romawi Street   4592000   \n",
       "2003        4958 -37.868707  144.824481       17 Romawi Street   4592000   \n",
       "19         57100 -37.828214  145.078467        19 Logan Street  29510000   \n",
       "2007       57100 -37.828214  145.078467        19 Logan Street  29510000   \n",
       "1          16783 -37.713242  144.947375       20 Talbot Street   5380000   \n",
       "1989       16783 -37.713242  144.947375       20 Talbot Street   5380000   \n",
       "338        75916 -37.897888  145.096970         20 Tamar Grove  12240000   \n",
       "1493       75916 -37.897888  145.096970         20 Tamar Grove  12240000   \n",
       "62         37085 -37.634332  145.040398      22 Chettam Street   6440000   \n",
       "1831       37085 -37.634332  145.040398      22 Chettam Street   6440000   \n",
       "7          11787 -37.714430  144.830954      24 Borrell Street   8175000   \n",
       "1995       11787 -37.714430  144.830954      24 Borrell Street   8175000   \n",
       "11         19381 -37.661851  144.934087  27 Bushfield Crescent   4320000   \n",
       "1999       19381 -37.661851  144.934087  27 Bushfield Crescent   4320000   \n",
       "940         4340 -37.839888  144.866283        3 Gordon Street  13200000   \n",
       "1222        4340 -37.839888  144.866283        3 Gordon Street  13200000   \n",
       "16         17156 -37.702599  144.924023      38 Widford Street   7200000   \n",
       "2004       17156 -37.702599  144.924023      38 Widford Street   7200000   \n",
       "135        51372 -37.783713  145.101935        4 Koonung Court   5976000   \n",
       "278        51372 -37.783713  145.101935        4 Koonung Court   5976000   \n",
       "12         22765 -37.740895  144.959750       40 Nelson Street   8964000   \n",
       "2000       22765 -37.740895  144.959750       40 Nelson Street   8964000   \n",
       "265        43173 -37.719516  145.076594     49 Stewart Terrace   3760000   \n",
       "925        43173 -37.719516  145.076594     49 Stewart Terrace   3760000   \n",
       "18         70159 -37.868579  145.078651      5 Nicholas Street  17420000   \n",
       "2006       70159 -37.868579  145.078651      5 Nicholas Street  17420000   \n",
       "190        73783 -37.844034  145.298341          5 Pope Avenue   8517000   \n",
       "1034       73783 -37.844034  145.298341          5 Pope Avenue   8517000   \n",
       "10         27193 -37.604355  144.911939    5/41-43 Pearl Drive   2970000   \n",
       "1998       27193 -37.604355  144.911939    5/41-43 Pearl Drive   2970000   \n",
       "3          35191 -37.703586  145.011277      54 Pickett Street   8190000   \n",
       "1991       35191 -37.703586  145.011277      54 Pickett Street   8190000   \n",
       "8          17478 -37.714449  144.943814        58 South Street   4014000   \n",
       "1996       17478 -37.714449  144.943814        58 South Street   4014000   \n",
       "764        10845 -37.792538  144.932780      74 Collett Street  12800000   \n",
       "1291       10845 -37.792538  144.932780      74 Collett Street  12800000   \n",
       "912        17849 -37.706824  144.952721        9 Staples Court   7007000   \n",
       "1331       17849 -37.706824  144.952721        9 Staples Court   7007000   \n",
       "\n",
       "     property_type  year  bedrooms  bathrooms  parking_space  \n",
       "6            house  2014         3          2              2  \n",
       "1994         house  2014         3          2              2  \n",
       "9            house  2008         1          1              1  \n",
       "1997         house  2008         1          1              1  \n",
       "13           house  2015         4          2              3  \n",
       "2001         house  2015         4          2              3  \n",
       "853          house  2012         3          1              0  \n",
       "1382         house  2012         3          1              0  \n",
       "15           house  2010         4          3              2  \n",
       "2003         house  2010         4          3              2  \n",
       "19           house  2010         4          3              2  \n",
       "2007         house  2010         4          3              2  \n",
       "1            house  2014         5          3              3  \n",
       "1989         house  2014         5          3              3  \n",
       "338          house  2009         1          1              0  \n",
       "1493         house  2009         1          1              0  \n",
       "62           house  2016         4          2              2  \n",
       "1831         house  2016         4          2              2  \n",
       "7            house  2009         3          1              3  \n",
       "1995         house  2009         3          1              3  \n",
       "11           house  2011         3          1              2  \n",
       "1999         house  2011         3          1              2  \n",
       "940          house  2015         4          2              3  \n",
       "1222         house  2015         4          2              3  \n",
       "16           house  2013         2          1              0  \n",
       "2004         house  2013         2          1              0  \n",
       "135          house  2010         3          1              3  \n",
       "278          house  2010         3          1              3  \n",
       "12           house  2016         3          2              1  \n",
       "2000         house  2016         3          2              1  \n",
       "265          house  2009         2          1              2  \n",
       "925          house  2009         2          1              2  \n",
       "18           house  2016         3          1              1  \n",
       "2006         house  2016         3          1              1  \n",
       "190          house  2013         4          2              2  \n",
       "1034         house  2013         4          2              2  \n",
       "10           house  2015         2          1              1  \n",
       "1998         house  2015         2          1              1  \n",
       "3            house  2016         3          1              1  \n",
       "1991         house  2016         3          1              1  \n",
       "8            house  2011         3          1              1  \n",
       "1996         house  2011         3          1              1  \n",
       "764          house  2016         2          1              0  \n",
       "1291         house  2016         2          1              0  \n",
       "912          house  2015         3          1              2  \n",
       "1331         house  2015         3          1              2  "
      ]
     },
     "execution_count": 7,
     "metadata": {},
     "output_type": "execute_result"
    }
   ],
   "source": [
    "# check duplicated records\n",
    "df[df[[c for c in df.columns.to_list() if c != 'property_id']]\n",
    "   .duplicated(keep=False)].sort_values(by=['addr_street', 'property_id'])\n"
   ]
  },
  {
   "cell_type": "code",
   "execution_count": 8,
   "metadata": {},
   "outputs": [
    {
     "name": "stdout",
     "output_type": "stream",
     "text": [
      "As we can see, there are 46 duplicated records. Hence, they should be taken off from dataframe.\n"
     ]
    }
   ],
   "source": [
    "# count the duplicated records and show\n",
    "count_dup = len(df[df[[c for c in df.columns.to_list() if c != 'property_id']]\n",
    "               .duplicated(keep=False)].sort_values(by=['addr_street', 'property_id']))\n",
    "\n",
    "print('As we can see, there are {} duplicated records.'.format(count_dup) ,end=' ')\n",
    "print('Hence, they should be taken off from dataframe.')\n"
   ]
  },
  {
   "cell_type": "code",
   "execution_count": 9,
   "metadata": {
    "scrolled": true
   },
   "outputs": [],
   "source": [
    "# drop duplicated rows\n",
    "duplicated_list = df[df[[c for c in df.columns.to_list() if c != 'property_id']]\n",
    "                       .duplicated(keep=False)].index.to_list()\n",
    "df.drop(index=duplicated_list, inplace=True)\n",
    "\n",
    "# reset index of dataframe\n",
    "df.reset_index(drop=True, inplace=True)\n"
   ]
  },
  {
   "cell_type": "markdown",
   "metadata": {},
   "source": [
    "### Check result"
   ]
  },
  {
   "cell_type": "code",
   "execution_count": 10,
   "metadata": {},
   "outputs": [
    {
     "name": "stdout",
     "output_type": "stream",
     "text": [
      "Number of records: 1962\n"
     ]
    }
   ],
   "source": [
    "# check the result\n",
    "print('Number of records:', len(df))"
   ]
  },
  {
   "cell_type": "markdown",
   "metadata": {},
   "source": [
    "## 2.4 Assign suburb via shape file data<a class=\"anchor\" name=\"2.4\"></a>\n",
    "\n",
    "After extracting shape file `vic_suburb_boundary.zip` to a working directory. The shapely library is required to install for the first time. Simply execute command `!pip install shapely` in a coding block. Next, let read the file and have a look what included in it.\n"
   ]
  },
  {
   "cell_type": "code",
   "execution_count": 11,
   "metadata": {},
   "outputs": [
    {
     "data": {
      "text/plain": [
       "{'LC_PLY_PID': '6670',\n",
       " 'DT_CREATE': datetime.date(2011, 8, 31),\n",
       " 'DT_RETIRE': None,\n",
       " 'LOC_PID': 'VIC2615',\n",
       " 'VIC_LOCALI': datetime.date(2012, 4, 27),\n",
       " 'VIC_LOCA_1': None,\n",
       " 'VIC_LOCA_2': 'UNDERBOOL',\n",
       " 'VIC_LOCA_3': '',\n",
       " 'VIC_LOCA_4': '',\n",
       " 'VIC_LOCA_5': 'G',\n",
       " 'VIC_LOCA_6': None,\n",
       " 'VIC_LOCA_7': '2'}"
      ]
     },
     "execution_count": 11,
     "metadata": {},
     "output_type": "execute_result"
    }
   ],
   "source": [
    "# load shape file\n",
    "sf = shapefile.Reader(\"./supplementary_data/vic_suburb_boundary/VIC_LOCALITY_POLYGON_shp\")\n",
    "recs = sf.records()\n",
    "shapes = sf.shapes()\n",
    "\n",
    "# check record data\n",
    "recs[0].as_dict()"
   ]
  },
  {
   "cell_type": "markdown",
   "metadata": {},
   "source": [
    "The attribute `VIC_LOCA_2` in the records variable has stored a suburb in Victoria state."
   ]
  },
  {
   "cell_type": "code",
   "execution_count": 12,
   "metadata": {},
   "outputs": [
    {
     "data": {
      "text/plain": [
       "[(141.74552399, -35.07228701),\n",
       " (141.74552471, -35.07201624),\n",
       " (141.74748471, -35.06367123),\n",
       " (141.74909525, -35.05681288),\n",
       " (141.74917403, -35.05647197)]"
      ]
     },
     "execution_count": 12,
     "metadata": {},
     "output_type": "execute_result"
    }
   ],
   "source": [
    "# check shape data\n",
    "shapes[0].points[0:5]"
   ]
  },
  {
   "cell_type": "code",
   "execution_count": null,
   "metadata": {},
   "outputs": [],
   "source": []
  },
  {
   "cell_type": "markdown",
   "metadata": {},
   "source": [
    "On the other hand, the attribute `points` in the shapes variable has stored latitude and longitude points.\n",
    "\n",
    "Therefore, applying both shapes and records information, we can impute suburbs in dataframe."
   ]
  },
  {
   "cell_type": "code",
   "execution_count": 13,
   "metadata": {},
   "outputs": [
    {
     "name": "stdout",
     "output_type": "stream",
     "text": [
      "CPU times: user 2min 20s, sys: 713 ms, total: 2min 20s\n",
      "Wall time: 2min 21s\n"
     ]
    }
   ],
   "source": [
    "%%time\n",
    "# function to impute suburb from the shape file.\n",
    "def get_suburb(lat,long):\n",
    "    point = Point(long, lat)\n",
    "    \n",
    "    for i in range(len(shapes)):\n",
    "        pg = Polygon(shapes[i].points)\n",
    "        if point.within(pg):\n",
    "            return(recs[i].VIC_LOCA_2)\n",
    "    return('not available')\n",
    "\n",
    "# impute suburb data via get_suburb function\n",
    "df['suburb'] = 'not available'\n",
    "for i,row in df.iterrows():\n",
    "    df['suburb'][i] = get_suburb(row.lat, row.lng)\n",
    "    "
   ]
  },
  {
   "cell_type": "markdown",
   "metadata": {},
   "source": [
    "### Check the result"
   ]
  },
  {
   "cell_type": "code",
   "execution_count": 14,
   "metadata": {
    "scrolled": true
   },
   "outputs": [
    {
     "name": "stdout",
     "output_type": "stream",
     "text": [
      "not available suburb: 0 records\n"
     ]
    },
    {
     "data": {
      "text/plain": [
       "0      GLENROY\n",
       "1    NORTHCOTE\n",
       "2      FAWKNER\n",
       "3       COBURG\n",
       "4       KEALBA\n",
       "Name: suburb, dtype: object"
      ]
     },
     "execution_count": 14,
     "metadata": {},
     "output_type": "execute_result"
    }
   ],
   "source": [
    "# check not available suburb\n",
    "print('not available suburb:', len(df[df['suburb']=='not available']), 'records')\n",
    "\n",
    "# check value of new column\n",
    "df.suburb.head()"
   ]
  },
  {
   "cell_type": "markdown",
   "metadata": {},
   "source": [
    "## 2.5 Create functions to Find nearest place and calculate distance<a class=\"anchor\" name=\"2.5\"></a>\n"
   ]
  },
  {
   "cell_type": "code",
   "execution_count": 15,
   "metadata": {},
   "outputs": [],
   "source": [
    "# function to calculate between two locations\n",
    "def distance(origin, destination):\n",
    "    lat1, lon1 = origin\n",
    "    lat2, lon2 = destination\n",
    "    radius = 6378 # km\n",
    "\n",
    "    dlat = math.radians(lat2-lat1)\n",
    "    dlon = math.radians(lon2-lon1)\n",
    "    a = math.sin(dlat/2) * math.sin(dlat/2) + math.cos(math.radians(lat1)) \\\n",
    "        * math.cos(math.radians(lat2)) * math.sin(dlon/2) * math.sin(dlon/2)\n",
    "    c = 2 * math.atan2(math.sqrt(a), math.sqrt(1-a))\n",
    "    d = radius * c\n",
    "    return d\n",
    "\n",
    "# function to find nearest_place from passing dataframe\n",
    "def find_nearest_place_by_df(origin, df):\n",
    "    # initial variables\n",
    "    nearest_id = \"\"\n",
    "    nearest_dist = 99999\n",
    "    \n",
    "    # find the closest place\n",
    "    for i, item in df.iterrows():\n",
    "        # calculate distance\n",
    "        dist = distance(origin, [df.lat[i], df.lng[i]])\n",
    "        \n",
    "        # convert km to m\n",
    "        dist = int(round(dist * 1000))\n",
    "        \n",
    "        # if nearest_dist is farther than new place, assign new place instead\n",
    "        if dist < nearest_dist:\n",
    "            nearest_id = df.id[i]\n",
    "            nearest_dist = dist\n",
    "\n",
    "    # return property_id and distance\n",
    "    return([nearest_id, nearest_dist])\n",
    "    "
   ]
  },
  {
   "cell_type": "markdown",
   "metadata": {},
   "source": [
    "## 2.6 Integrate shopping center pdf data<a class=\"anchor\" name=\"2.6\"></a>\n",
    "\n",
    "### Load dataset\n",
    "\n",
    "Initially, extracting data from pdf file, it is not easy. Therefore, I would like to apply an external library called `pdfminer` and the command `!pip install pdfminer` is required to execute for the first time. After that running the command `!pdf2txt.py -o shopingcenters.txt shopingcenters.pdf` will activate the pdfminer to generate a new readable text file from the pdf file format.\n"
   ]
  },
  {
   "cell_type": "code",
   "execution_count": 16,
   "metadata": {},
   "outputs": [],
   "source": [
    "#### RUN THIS COMMENTED CODE TO EXTRACT DATA FROM PDF FILE TO TEXT ####\n",
    "# !pip install pdfminer\n",
    "# !pdf2txt.py -o shopingcenters.txt shopingcenters.pdf\n",
    "#######################################################################"
   ]
  },
  {
   "cell_type": "code",
   "execution_count": 17,
   "metadata": {
    "scrolled": false
   },
   "outputs": [],
   "source": [
    "# load extracted pdf file from text\n",
    "pdfTxtFile = '/supplementary_data/shopingcenters.txt'\n",
    "pdf_txt = open(pdfTxtFile, 'r')\n",
    "\n",
    "# initital dataframe\n",
    "shopping_center_df = pd.DataFrame(columns=[ 'id', 'lat', 'lng'])\n",
    "\n",
    "# loop each line of text file\n",
    "for line in pdf_txt:\n",
    "    \n",
    "    # split data by space\n",
    "    row = line.split(' ')\n",
    "    \n",
    "    # check if the correct rows, then store data\n",
    "    if len(row) > 1 and row[0].isnumeric:\n",
    "        # set column names\n",
    "        s = pd.Series(row, \n",
    "                      index=['index', 'id', 'lat', 'lng'],\n",
    "                      dtype=str\n",
    "                     )\n",
    "        s[3] = s[3].replace('\\n','')\n",
    "        \n",
    "        # append data to dataframe\n",
    "        shopping_center_df = shopping_center_df.append(s[1:], ignore_index=True)\n",
    "\n",
    "# assign datatypes\n",
    "shopping_center_df = shopping_center_df.astype({'id': str, 'lat': float, 'lng': float})\n"
   ]
  },
  {
   "cell_type": "markdown",
   "metadata": {},
   "source": [
    "### Find nearest place and calculate distance"
   ]
  },
  {
   "cell_type": "code",
   "execution_count": 18,
   "metadata": {},
   "outputs": [],
   "source": [
    "# initial set of variables\n",
    "place_name = 'Shopping_center_id'\n",
    "dist_name = 'Distance_to_sc'\n",
    "\n",
    "# set defualt values for new columns\n",
    "df[place_name] = 'not available'\n",
    "df[dist_name] = 0\n",
    "\n",
    "# assign dataframe for look up data\n",
    "look_up_df = shopping_center_df\n",
    "\n",
    "# find nearest place and calculate distance for each record\n",
    "for i, row in df.iterrows():\n",
    "    look_up_id, dist = find_nearest_place_by_df([df.lat[i], df.lng[i]], look_up_df)\n",
    "    df[place_name][i] = look_up_id\n",
    "    df[dist_name][i] = dist\n",
    "    "
   ]
  },
  {
   "cell_type": "markdown",
   "metadata": {},
   "source": [
    "### Check result"
   ]
  },
  {
   "cell_type": "code",
   "execution_count": 19,
   "metadata": {},
   "outputs": [
    {
     "name": "stdout",
     "output_type": "stream",
     "text": [
      "not available Shopping_center_id: 0 records\n",
      "not available Distance_to_sc: 0 records\n",
      "\n",
      "count    1962.000000\n",
      "mean     2459.299694\n",
      "std      1320.772170\n",
      "min        92.000000\n",
      "25%      1434.000000\n",
      "50%      2209.000000\n",
      "75%      3337.000000\n",
      "max      5957.000000\n",
      "Name: Distance_to_sc, dtype: float64\n"
     ]
    },
    {
     "data": {
      "text/html": [
       "<div>\n",
       "<style scoped>\n",
       "    .dataframe tbody tr th:only-of-type {\n",
       "        vertical-align: middle;\n",
       "    }\n",
       "\n",
       "    .dataframe tbody tr th {\n",
       "        vertical-align: top;\n",
       "    }\n",
       "\n",
       "    .dataframe thead th {\n",
       "        text-align: right;\n",
       "    }\n",
       "</style>\n",
       "<table border=\"1\" class=\"dataframe\">\n",
       "  <thead>\n",
       "    <tr style=\"text-align: right;\">\n",
       "      <th></th>\n",
       "      <th>Shopping_center_id</th>\n",
       "      <th>Distance_to_sc</th>\n",
       "    </tr>\n",
       "  </thead>\n",
       "  <tbody>\n",
       "    <tr>\n",
       "      <td>0</td>\n",
       "      <td>SC_059</td>\n",
       "      <td>2116</td>\n",
       "    </tr>\n",
       "    <tr>\n",
       "      <td>1</td>\n",
       "      <td>SC_103</td>\n",
       "      <td>3364</td>\n",
       "    </tr>\n",
       "    <tr>\n",
       "      <td>2</td>\n",
       "      <td>SC_030</td>\n",
       "      <td>2789</td>\n",
       "    </tr>\n",
       "    <tr>\n",
       "      <td>3</td>\n",
       "      <td>SC_030</td>\n",
       "      <td>2643</td>\n",
       "    </tr>\n",
       "    <tr>\n",
       "      <td>4</td>\n",
       "      <td>SC_107</td>\n",
       "      <td>1602</td>\n",
       "    </tr>\n",
       "  </tbody>\n",
       "</table>\n",
       "</div>"
      ],
      "text/plain": [
       "  Shopping_center_id  Distance_to_sc\n",
       "0             SC_059            2116\n",
       "1             SC_103            3364\n",
       "2             SC_030            2789\n",
       "3             SC_030            2643\n",
       "4             SC_107            1602"
      ]
     },
     "execution_count": 19,
     "metadata": {},
     "output_type": "execute_result"
    }
   ],
   "source": [
    "# check not available value\n",
    "print('not available Shopping_center_id:', len(df[df['Shopping_center_id']=='not available']), 'records')\n",
    "print('not available Distance_to_sc:', len(df[df['Distance_to_sc']==0]), 'records\\n')\n",
    "\n",
    "# check basic stat info\n",
    "print(df['Distance_to_sc'].describe())\n",
    "\n",
    "# check the result\n",
    "df[['Shopping_center_id','Distance_to_sc']].head()\n"
   ]
  },
  {
   "cell_type": "markdown",
   "metadata": {},
   "source": [
    "## 2.7 Integrate Melbourne train data<a class=\"anchor\" name=\"2.7\"></a>\n",
    "\n",
    "### 2.7.1 Find nearest train station and calculate distance<a class=\"anchor\" name=\"2.7.1\"></a>\n",
    "\n",
    "### Load dataset "
   ]
  },
  {
   "cell_type": "markdown",
   "metadata": {},
   "source": [
    "In order to find the nearest train station, the file `stops.txt` in `GTFS - Melbourne Train Information` directory is required. This file included stop_id and stop_name which are significant for the task.\n"
   ]
  },
  {
   "cell_type": "code",
   "execution_count": 20,
   "metadata": {
    "scrolled": false
   },
   "outputs": [],
   "source": [
    "# load stops data\n",
    "train_stops_df = pd.read_csv('./supplementary_data/GTFS - Melbourne Train Information/stops.txt')\n",
    "\n",
    "# rename of columns\n",
    "train_stops_df.rename(columns={\"stop_id\": \"id\", \n",
    "                               \"stop_name\":\"name\", \n",
    "                               \"stop_lat\":\"lat\", \n",
    "                               \"stop_lon\":\"lng\"}, \n",
    "                      inplace=True)\n"
   ]
  },
  {
   "cell_type": "markdown",
   "metadata": {},
   "source": [
    "### Find nearest place and calculate distance"
   ]
  },
  {
   "cell_type": "code",
   "execution_count": 21,
   "metadata": {},
   "outputs": [],
   "source": [
    "# initial set of variables\n",
    "place_name = 'Train_station_id'\n",
    "dist_name = 'Distance_to_train_station'\n",
    "\n",
    "# set defualt values for new columns\n",
    "df[place_name] = 0\n",
    "df[dist_name] = 0\n",
    "\n",
    "# assign dataframe for look up data\n",
    "look_up_df = train_stops_df\n",
    "\n",
    "# find nearest place and calculate distance for each record\n",
    "for i, row in df.iterrows():\n",
    "    look_up_id, dist = find_nearest_place_by_df([df.lat[i], df.lng[i]], look_up_df)\n",
    "    df[place_name][i] = look_up_id\n",
    "    df[dist_name][i] = dist\n",
    "    "
   ]
  },
  {
   "cell_type": "markdown",
   "metadata": {},
   "source": [
    "### Check result"
   ]
  },
  {
   "cell_type": "code",
   "execution_count": 22,
   "metadata": {},
   "outputs": [
    {
     "name": "stdout",
     "output_type": "stream",
     "text": [
      "not available Train_station_id: 0 records\n",
      "not available Distance_to_train_station: 0 records\n",
      "\n",
      "count    1962.000000\n",
      "mean     1402.247706\n",
      "std       973.571957\n",
      "min        26.000000\n",
      "25%       673.750000\n",
      "50%      1137.000000\n",
      "75%      1923.750000\n",
      "max      4875.000000\n",
      "Name: Distance_to_train_station, dtype: float64\n"
     ]
    },
    {
     "data": {
      "text/html": [
       "<div>\n",
       "<style scoped>\n",
       "    .dataframe tbody tr th:only-of-type {\n",
       "        vertical-align: middle;\n",
       "    }\n",
       "\n",
       "    .dataframe tbody tr th {\n",
       "        vertical-align: top;\n",
       "    }\n",
       "\n",
       "    .dataframe thead th {\n",
       "        text-align: right;\n",
       "    }\n",
       "</style>\n",
       "<table border=\"1\" class=\"dataframe\">\n",
       "  <thead>\n",
       "    <tr style=\"text-align: right;\">\n",
       "      <th></th>\n",
       "      <th>Train_station_id</th>\n",
       "      <th>Distance_to_train_station</th>\n",
       "    </tr>\n",
       "  </thead>\n",
       "  <tbody>\n",
       "    <tr>\n",
       "      <td>0</td>\n",
       "      <td>20031</td>\n",
       "      <td>1043</td>\n",
       "    </tr>\n",
       "    <tr>\n",
       "      <td>1</td>\n",
       "      <td>20016</td>\n",
       "      <td>301</td>\n",
       "    </tr>\n",
       "    <tr>\n",
       "      <td>2</td>\n",
       "      <td>19962</td>\n",
       "      <td>757</td>\n",
       "    </tr>\n",
       "    <tr>\n",
       "      <td>3</td>\n",
       "      <td>19966</td>\n",
       "      <td>730</td>\n",
       "    </tr>\n",
       "    <tr>\n",
       "      <td>4</td>\n",
       "      <td>20002</td>\n",
       "      <td>2685</td>\n",
       "    </tr>\n",
       "  </tbody>\n",
       "</table>\n",
       "</div>"
      ],
      "text/plain": [
       "   Train_station_id  Distance_to_train_station\n",
       "0             20031                       1043\n",
       "1             20016                        301\n",
       "2             19962                        757\n",
       "3             19966                        730\n",
       "4             20002                       2685"
      ]
     },
     "execution_count": 22,
     "metadata": {},
     "output_type": "execute_result"
    }
   ],
   "source": [
    "# check not available value\n",
    "print('not available Train_station_id:', len(df[df['Train_station_id']==0]), 'records')\n",
    "print('not available Distance_to_train_station:', len(df[df['Distance_to_train_station']==0]), 'records\\n')\n",
    "\n",
    "# check basic stat info\n",
    "print(df['Distance_to_train_station'].describe())\n",
    "\n",
    "# check the result\n",
    "df[['Train_station_id','Distance_to_train_station']].head()"
   ]
  },
  {
   "cell_type": "markdown",
   "metadata": {},
   "source": [
    "### 2.7.2 Calculate time travel and transfer flag<a class=\"anchor\" name=\"2.7.2\"></a>\n",
    "\n",
    "### Load datasets\n",
    "\n",
    "To calculate time travel to CBD and transfer flag, there are three extra files need to be integrated as follow.\n",
    "\n",
    "1. `calendar.txt` - seeking for service_id which run on weekdays.\n",
    "2. `trips.txt` -  use to link between calendar and stop_times by service_id and trip_id.\n",
    "3. `stop_times.txt` - to find any trips which operate between 7-9 am and extract travel time.\n"
   ]
  },
  {
   "cell_type": "code",
   "execution_count": 23,
   "metadata": {
    "scrolled": true
   },
   "outputs": [
    {
     "name": "stdout",
     "output_type": "stream",
     "text": [
      "Service id: ['T0']\n"
     ]
    }
   ],
   "source": [
    "# load calendar data\n",
    "train_calendar_df = pd.read_csv('./supplementary_data/GTFS - Melbourne Train Information/calendar.txt')\n",
    "\n",
    "# select service_id which work on weekdays\n",
    "weekdays_service_id = train_calendar_df[(train_calendar_df['monday']==1) \n",
    "                                      & (train_calendar_df['tuesday']==1) \n",
    "                                      & (train_calendar_df['wednesday']==1) \n",
    "                                      & (train_calendar_df['thursday']==1) \n",
    "                                      & (train_calendar_df['friday']==1) \n",
    "                                     ]['service_id'].tolist()\n",
    "print('Service id:', weekdays_service_id)"
   ]
  },
  {
   "cell_type": "markdown",
   "metadata": {},
   "source": [
    "Only the service_id 'T0' runs on weekdays. Thus, filtering the service_id on trips dataframe will optimise our performance once looking up data."
   ]
  },
  {
   "cell_type": "code",
   "execution_count": 24,
   "metadata": {
    "scrolled": true
   },
   "outputs": [
    {
     "name": "stdout",
     "output_type": "stream",
     "text": [
      "Original records: 23809\n",
      "Filtered records: 2323\n"
     ]
    }
   ],
   "source": [
    "# load trips data\n",
    "train_trips_df = pd.read_csv('./supplementary_data/GTFS - Melbourne Train Information/trips.txt')\n",
    "print('Original records:', len(train_trips_df))\n",
    "\n",
    "# filter only weekdays trips\n",
    "train_trips_df = train_trips_df[train_trips_df.service_id.isin(weekdays_service_id)]\n",
    "\n",
    "print('Filtered records:', len(train_trips_df))\n"
   ]
  },
  {
   "cell_type": "code",
   "execution_count": 25,
   "metadata": {
    "scrolled": true
   },
   "outputs": [
    {
     "name": "stdout",
     "output_type": "stream",
     "text": [
      "Original records: 390305\n",
      "Filtered records: 41506\n"
     ]
    }
   ],
   "source": [
    "# load stop_times data\n",
    "train_stop_times_df = pd.read_csv('./supplementary_data/GTFS - Melbourne Train Information/stop_times.txt')\n",
    "print('Original records:', len(train_stop_times_df))\n",
    "\n",
    "# filter only trips which pass the Flinder station\n",
    "flinder_station_id = int(train_stops_df[train_stops_df['name']=='Flinders Street Railway Station']['id'])\n",
    "flinder_trip_id = train_stop_times_df[train_stop_times_df['stop_id']==flinder_station_id]['trip_id'].tolist()\n",
    "train_stop_times_df = train_stop_times_df[train_stop_times_df.trip_id.isin(flinder_trip_id)]\n",
    "\n",
    "# filter only weekdays trips\n",
    "train_stop_times_df = train_stop_times_df[train_stop_times_df['trip_id'].isin(train_trips_df['trip_id'].tolist())]\n",
    "\n",
    "print('Filtered records:', len(train_stop_times_df))\n"
   ]
  },
  {
   "cell_type": "markdown",
   "metadata": {},
   "source": [
    "Filter the trips which operate on weekdays and pass the Flinder station will reduce processing time."
   ]
  },
  {
   "cell_type": "markdown",
   "metadata": {},
   "source": [
    "### Create function to calculate_travel_time"
   ]
  },
  {
   "cell_type": "code",
   "execution_count": 26,
   "metadata": {},
   "outputs": [],
   "source": [
    "# function to find arrival trip by trip_id\n",
    "def find_arrival_trip(trip_id, seq, destination_stop):\n",
    "    \n",
    "    dest_trip = train_stop_times_df[(train_stop_times_df['trip_id'] == trip_id) &\n",
    "                                    (train_stop_times_df['stop_sequence'] > seq) &\n",
    "                                    (train_stop_times_df['stop_id'] == destination_stop)\n",
    "                                   ]\n",
    "    return(dest_trip)\n",
    "\n",
    "# function to subtract depart_time and arrival_time then return in mintue\n",
    "def subtract_travel_time(depart_time, arrival_time):\n",
    "    # split time in string into list [hh, mm, ss]\n",
    "    depart_time_sp = depart_time.split(':')\n",
    "    arrival_time_sp = arrival_time.split(':')\n",
    "    \n",
    "    # convert time in string to integer\n",
    "    depart_time_min = (int(depart_time_sp[0]) * 60) + int(depart_time_sp[1])\n",
    "    arrival_time_min = (int(arrival_time_sp[0]) * 60) + int(arrival_time_sp[1])\n",
    "    \n",
    "    # stract time in minute and return\n",
    "    return(arrival_time_min - depart_time_min)\n",
    "\n",
    "# function to calculate average travel_time\n",
    "def calculate_travel_time(depart_station, destination_station, start_time = '07:00:00', end_time = '09:00:00'):\n",
    "    # initial variable\n",
    "    travel_time = [] # minute\n",
    "\n",
    "    # find trips\n",
    "    filtered_trips = train_stop_times_df[((train_stop_times_df['departure_time'] >= start_time) & \n",
    "                                        (train_stop_times_df['departure_time'] <= end_time)) &\n",
    "                                        (train_stop_times_df['stop_id'] == depart_station)\n",
    "                                       ]\n",
    "    # select trips which depart between specific period\n",
    "    for i, row in filtered_trips.iterrows():\n",
    "        # find arrival_trip\n",
    "        arrival_trip = find_arrival_trip(row.trip_id, row.stop_sequence, destination_station)\n",
    "        \n",
    "        if len(arrival_trip) > 0:\n",
    "            # reset index of result data\n",
    "            arrival_trip.reset_index(drop=True, inplace=True)\n",
    "            arrival_time = arrival_trip.arrival_time[0]\n",
    "            \n",
    "            # keep the travel time\n",
    "            travel_time.append(subtract_travel_time(row.departure_time, arrival_time))\n",
    "\n",
    "    if (len(travel_time) > 0):\n",
    "        # return average time travel in minute\n",
    "        return(int(round(np.mean(travel_time))))\n",
    "    else:\n",
    "        return(0)\n"
   ]
  },
  {
   "cell_type": "markdown",
   "metadata": {},
   "source": [
    "### Execute calculation travel time to CBD and transfer flag"
   ]
  },
  {
   "cell_type": "code",
   "execution_count": 27,
   "metadata": {
    "scrolled": true
   },
   "outputs": [],
   "source": [
    "# set defualt values for new columns travel_min_to_CBD and Transfer_flag\n",
    "df['travel_min_to_CBD'] = 0\n",
    "df['Transfer_flag'] = -1\n",
    "\n",
    "# execute each record\n",
    "for i, row in df.iterrows():\n",
    "    # calculate travel time to Flinder station\n",
    "    travel_time = calculate_travel_time(row.Train_station_id, flinder_station_id)\n",
    "    \n",
    "    # if find any direct route\n",
    "    if travel_time > 0:\n",
    "        df.Transfer_flag[i] = 0\n",
    "        df.travel_min_to_CBD[i] = travel_time\n",
    "    else: \n",
    "        # set Transfer_flag as 1 when there is no direct route\n",
    "        df.Transfer_flag[i] = 1\n"
   ]
  },
  {
   "cell_type": "markdown",
   "metadata": {},
   "source": [
    "### Check result"
   ]
  },
  {
   "cell_type": "code",
   "execution_count": 28,
   "metadata": {},
   "outputs": [
    {
     "name": "stdout",
     "output_type": "stream",
     "text": [
      "not available travel_min_to_CBD: 4 records\n",
      "not available Transfer_flag: 0 records\n",
      "\n",
      "count    1962.000000\n",
      "mean       33.324159\n",
      "std        12.391371\n",
      "min         0.000000\n",
      "25%        23.000000\n",
      "50%        34.000000\n",
      "75%        41.000000\n",
      "max        60.000000\n",
      "Name: travel_min_to_CBD, dtype: float64\n"
     ]
    },
    {
     "data": {
      "text/html": [
       "<div>\n",
       "<style scoped>\n",
       "    .dataframe tbody tr th:only-of-type {\n",
       "        vertical-align: middle;\n",
       "    }\n",
       "\n",
       "    .dataframe tbody tr th {\n",
       "        vertical-align: top;\n",
       "    }\n",
       "\n",
       "    .dataframe thead th {\n",
       "        text-align: right;\n",
       "    }\n",
       "</style>\n",
       "<table border=\"1\" class=\"dataframe\">\n",
       "  <thead>\n",
       "    <tr style=\"text-align: right;\">\n",
       "      <th></th>\n",
       "      <th>travel_min_to_CBD</th>\n",
       "      <th>Transfer_flag</th>\n",
       "    </tr>\n",
       "  </thead>\n",
       "  <tbody>\n",
       "    <tr>\n",
       "      <td>0</td>\n",
       "      <td>35</td>\n",
       "      <td>0</td>\n",
       "    </tr>\n",
       "    <tr>\n",
       "      <td>1</td>\n",
       "      <td>20</td>\n",
       "      <td>0</td>\n",
       "    </tr>\n",
       "    <tr>\n",
       "      <td>2</td>\n",
       "      <td>33</td>\n",
       "      <td>0</td>\n",
       "    </tr>\n",
       "    <tr>\n",
       "      <td>3</td>\n",
       "      <td>26</td>\n",
       "      <td>0</td>\n",
       "    </tr>\n",
       "    <tr>\n",
       "      <td>4</td>\n",
       "      <td>33</td>\n",
       "      <td>0</td>\n",
       "    </tr>\n",
       "  </tbody>\n",
       "</table>\n",
       "</div>"
      ],
      "text/plain": [
       "   travel_min_to_CBD  Transfer_flag\n",
       "0                 35              0\n",
       "1                 20              0\n",
       "2                 33              0\n",
       "3                 26              0\n",
       "4                 33              0"
      ]
     },
     "execution_count": 28,
     "metadata": {},
     "output_type": "execute_result"
    }
   ],
   "source": [
    "# check not available value\n",
    "print('not available travel_min_to_CBD:', len(df[df['travel_min_to_CBD']==0]), 'records')\n",
    "print('not available Transfer_flag:', len(df[df['Transfer_flag']==-1]), 'records\\n')\n",
    "\n",
    "# check basic stat info\n",
    "print(df['travel_min_to_CBD'].describe())\n",
    "\n",
    "# check the result\n",
    "df[['travel_min_to_CBD','Transfer_flag']].head()"
   ]
  },
  {
   "cell_type": "markdown",
   "metadata": {},
   "source": [
    "## 2.8 Integrate hospitals data<a class=\"anchor\" name=\"2.8\"></a>\n",
    "\n",
    "### Load dataset"
   ]
  },
  {
   "cell_type": "code",
   "execution_count": 29,
   "metadata": {
    "scrolled": true
   },
   "outputs": [],
   "source": [
    "# load hospitals dataset from xlsx file to dataframe\n",
    "file_name_hospital = '/supplementary_data/hospitals.xlsx'\n",
    "hospital_df = pd.read_excel(file_name_hospital, \n",
    "                            index_col=0, \n",
    "                            dtype={'id': str, \n",
    "                                   'lat': float, \n",
    "                                   'lng': float, \n",
    "                                   'name': str\n",
    "                                  })\n"
   ]
  },
  {
   "cell_type": "markdown",
   "metadata": {},
   "source": [
    "### Find nearest place and calculate distance"
   ]
  },
  {
   "cell_type": "code",
   "execution_count": 30,
   "metadata": {},
   "outputs": [],
   "source": [
    "# initial set of variables\n",
    "place_name = 'Hospital_id'\n",
    "dist_name = 'Distance_to_hospital'\n",
    "\n",
    "# set defualt values for new columns\n",
    "df[place_name] = 'not available'\n",
    "df[dist_name] = 0\n",
    "\n",
    "# assign dataframe for look up data\n",
    "look_up_df = hospital_df\n",
    "\n",
    "# find nearest place and calculate distance for each record\n",
    "for i, row in df.iterrows():\n",
    "    look_up_id, dist = find_nearest_place_by_df([df.lat[i], df.lng[i]], look_up_df)\n",
    "    df[place_name][i] = look_up_id\n",
    "    df[dist_name][i] = dist\n",
    "    "
   ]
  },
  {
   "cell_type": "markdown",
   "metadata": {},
   "source": [
    "### Check result"
   ]
  },
  {
   "cell_type": "code",
   "execution_count": 31,
   "metadata": {},
   "outputs": [
    {
     "name": "stdout",
     "output_type": "stream",
     "text": [
      "not available Hospital_id: 0 records\n",
      "not available Distance_to_hospital: 0 records\n",
      "\n",
      "count    1962.000000\n",
      "mean     2212.297655\n",
      "std      1694.544702\n",
      "min        69.000000\n",
      "25%      1065.000000\n",
      "50%      1748.000000\n",
      "75%      2750.000000\n",
      "max      9191.000000\n",
      "Name: Distance_to_hospital, dtype: float64\n"
     ]
    },
    {
     "data": {
      "text/html": [
       "<div>\n",
       "<style scoped>\n",
       "    .dataframe tbody tr th:only-of-type {\n",
       "        vertical-align: middle;\n",
       "    }\n",
       "\n",
       "    .dataframe tbody tr th {\n",
       "        vertical-align: top;\n",
       "    }\n",
       "\n",
       "    .dataframe thead th {\n",
       "        text-align: right;\n",
       "    }\n",
       "</style>\n",
       "<table border=\"1\" class=\"dataframe\">\n",
       "  <thead>\n",
       "    <tr style=\"text-align: right;\">\n",
       "      <th></th>\n",
       "      <th>Hospital_id</th>\n",
       "      <th>Distance_to_hospital</th>\n",
       "    </tr>\n",
       "  </thead>\n",
       "  <tbody>\n",
       "    <tr>\n",
       "      <td>0</td>\n",
       "      <td>hospital_184</td>\n",
       "      <td>4846</td>\n",
       "    </tr>\n",
       "    <tr>\n",
       "      <td>1</td>\n",
       "      <td>hospital_035</td>\n",
       "      <td>1530</td>\n",
       "    </tr>\n",
       "    <tr>\n",
       "      <td>2</td>\n",
       "      <td>hospital_139</td>\n",
       "      <td>2678</td>\n",
       "    </tr>\n",
       "    <tr>\n",
       "      <td>3</td>\n",
       "      <td>hospital_144</td>\n",
       "      <td>666</td>\n",
       "    </tr>\n",
       "    <tr>\n",
       "      <td>4</td>\n",
       "      <td>hospital_005</td>\n",
       "      <td>3401</td>\n",
       "    </tr>\n",
       "  </tbody>\n",
       "</table>\n",
       "</div>"
      ],
      "text/plain": [
       "    Hospital_id  Distance_to_hospital\n",
       "0  hospital_184                  4846\n",
       "1  hospital_035                  1530\n",
       "2  hospital_139                  2678\n",
       "3  hospital_144                   666\n",
       "4  hospital_005                  3401"
      ]
     },
     "execution_count": 31,
     "metadata": {},
     "output_type": "execute_result"
    }
   ],
   "source": [
    "# check not available value\n",
    "print('not available Hospital_id:', len(df[df['Hospital_id']=='not available']), 'records')\n",
    "print('not available Distance_to_hospital:', len(df[df['Distance_to_hospital']==0]), 'records\\n')\n",
    "\n",
    "# check basic stat info\n",
    "print(df['Distance_to_hospital'].describe())\n",
    "\n",
    "# check the result\n",
    "df[['Hospital_id','Distance_to_hospital']].head()"
   ]
  },
  {
   "cell_type": "markdown",
   "metadata": {},
   "source": [
    "## 2.9 Integrate Supermarkets data<a class=\"anchor\" name=\"2.9\"></a>\n",
    "\n",
    "### Load dataset"
   ]
  },
  {
   "cell_type": "code",
   "execution_count": 32,
   "metadata": {
    "scrolled": true
   },
   "outputs": [],
   "source": [
    "# load html dataset with BeautifulSoup library\n",
    "f = open(\"/supplementary_data/supermarkets.html\", \"r\")\n",
    "html = f.read()\n",
    "bsobj = BeautifulSoup(html, \"html.parser\")\n",
    "\n",
    "# initial empty lists\n",
    "id_list = []\n",
    "lat_list = []\n",
    "lng_list = []\n",
    "type_list = []\n",
    "\n",
    "# seek for tbody tag\n",
    "for tr in bsobj.find('table', {'class':'dataframe'}).find('tbody').findAll('tr'):\n",
    "    # extract values from td tag\n",
    "    prop_id, lat, lng, prop_type = tr.findAll('td')\n",
    "    \n",
    "    # append to the lists\n",
    "    id_list.append(str(prop_id.contents[0]))\n",
    "    lat_list.append(float(lat.contents[0]))\n",
    "    lng_list.append(float(lng.contents[0]))\n",
    "    type_list.append(str(prop_type.contents[0]))\n",
    "\n",
    "# parsing lists to dataframe supermarket_df\n",
    "supermarket_df = pd.DataFrame(\n",
    "                        {'id': id_list,\n",
    "                         'lat': lat_list,\n",
    "                         'lng': lng_list,\n",
    "                         'name': type_list\n",
    "                        })\n"
   ]
  },
  {
   "cell_type": "markdown",
   "metadata": {},
   "source": [
    "#### Check duplicated records\n",
    "\n",
    "There is 2 duplicated records, however, the supermarket ids are different and I decided to keep them since assuming these could be 2 supermarkets located in the same shopping mall.\n"
   ]
  },
  {
   "cell_type": "code",
   "execution_count": 33,
   "metadata": {},
   "outputs": [
    {
     "data": {
      "text/html": [
       "<div>\n",
       "<style scoped>\n",
       "    .dataframe tbody tr th:only-of-type {\n",
       "        vertical-align: middle;\n",
       "    }\n",
       "\n",
       "    .dataframe tbody tr th {\n",
       "        vertical-align: top;\n",
       "    }\n",
       "\n",
       "    .dataframe thead th {\n",
       "        text-align: right;\n",
       "    }\n",
       "</style>\n",
       "<table border=\"1\" class=\"dataframe\">\n",
       "  <thead>\n",
       "    <tr style=\"text-align: right;\">\n",
       "      <th></th>\n",
       "      <th>id</th>\n",
       "      <th>lat</th>\n",
       "      <th>lng</th>\n",
       "      <th>name</th>\n",
       "    </tr>\n",
       "  </thead>\n",
       "  <tbody>\n",
       "    <tr>\n",
       "      <td>225</td>\n",
       "      <td>S_226</td>\n",
       "      <td>-37.86685</td>\n",
       "      <td>145.2204</td>\n",
       "      <td>Coles</td>\n",
       "    </tr>\n",
       "    <tr>\n",
       "      <td>226</td>\n",
       "      <td>S_227</td>\n",
       "      <td>-37.86685</td>\n",
       "      <td>145.2204</td>\n",
       "      <td>Coles</td>\n",
       "    </tr>\n",
       "  </tbody>\n",
       "</table>\n",
       "</div>"
      ],
      "text/plain": [
       "        id       lat       lng   name\n",
       "225  S_226 -37.86685  145.2204  Coles\n",
       "226  S_227 -37.86685  145.2204  Coles"
      ]
     },
     "execution_count": 33,
     "metadata": {},
     "output_type": "execute_result"
    }
   ],
   "source": [
    "# check duplicated records\n",
    "supermarket_df[supermarket_df[[c for c in supermarket_df.columns.to_list() if c != 'id']]\n",
    "   .duplicated(keep=False)].sort_values(by=['lat', 'lng'])"
   ]
  },
  {
   "cell_type": "markdown",
   "metadata": {},
   "source": [
    "### Find nearest place and calculate distance"
   ]
  },
  {
   "cell_type": "code",
   "execution_count": 34,
   "metadata": {},
   "outputs": [],
   "source": [
    "# initial set of variables\n",
    "place_name = 'Supermarket_id'\n",
    "dist_name = 'Distance_to_supermaket'\n",
    "\n",
    "# set defualt values for new columns\n",
    "df[place_name] = 'not available'\n",
    "df[dist_name] = 0\n",
    "\n",
    "# assign dataframe for look up data\n",
    "look_up_df = supermarket_df\n",
    "\n",
    "# find nearest place and calculate distance for each record\n",
    "for i, row in df.iterrows():\n",
    "    look_up_id, dist = find_nearest_place_by_df([df.lat[i], df.lng[i]], look_up_df)\n",
    "    df[place_name][i] = look_up_id\n",
    "    df[dist_name][i] = dist\n",
    "    "
   ]
  },
  {
   "cell_type": "markdown",
   "metadata": {},
   "source": [
    "### Check result"
   ]
  },
  {
   "cell_type": "code",
   "execution_count": 35,
   "metadata": {},
   "outputs": [
    {
     "name": "stdout",
     "output_type": "stream",
     "text": [
      "not available Supermarket_id: 0 records\n",
      "not available Distance_to_supermaket: 0 records\n",
      "\n",
      "count    1962.000000\n",
      "mean     1368.608563\n",
      "std       671.774530\n",
      "min        37.000000\n",
      "25%       834.250000\n",
      "50%      1311.000000\n",
      "75%      1843.750000\n",
      "max      2955.000000\n",
      "Name: Distance_to_supermaket, dtype: float64\n"
     ]
    },
    {
     "data": {
      "text/html": [
       "<div>\n",
       "<style scoped>\n",
       "    .dataframe tbody tr th:only-of-type {\n",
       "        vertical-align: middle;\n",
       "    }\n",
       "\n",
       "    .dataframe tbody tr th {\n",
       "        vertical-align: top;\n",
       "    }\n",
       "\n",
       "    .dataframe thead th {\n",
       "        text-align: right;\n",
       "    }\n",
       "</style>\n",
       "<table border=\"1\" class=\"dataframe\">\n",
       "  <thead>\n",
       "    <tr style=\"text-align: right;\">\n",
       "      <th></th>\n",
       "      <th>Supermarket_id</th>\n",
       "      <th>Distance_to_supermaket</th>\n",
       "    </tr>\n",
       "  </thead>\n",
       "  <tbody>\n",
       "    <tr>\n",
       "      <td>0</td>\n",
       "      <td>S_209</td>\n",
       "      <td>1862</td>\n",
       "    </tr>\n",
       "    <tr>\n",
       "      <td>1</td>\n",
       "      <td>S_105</td>\n",
       "      <td>2217</td>\n",
       "    </tr>\n",
       "    <tr>\n",
       "      <td>2</td>\n",
       "      <td>S_030</td>\n",
       "      <td>2369</td>\n",
       "    </tr>\n",
       "    <tr>\n",
       "      <td>3</td>\n",
       "      <td>S_173</td>\n",
       "      <td>964</td>\n",
       "    </tr>\n",
       "    <tr>\n",
       "      <td>4</td>\n",
       "      <td>S_222</td>\n",
       "      <td>1880</td>\n",
       "    </tr>\n",
       "  </tbody>\n",
       "</table>\n",
       "</div>"
      ],
      "text/plain": [
       "  Supermarket_id  Distance_to_supermaket\n",
       "0          S_209                    1862\n",
       "1          S_105                    2217\n",
       "2          S_030                    2369\n",
       "3          S_173                     964\n",
       "4          S_222                    1880"
      ]
     },
     "execution_count": 35,
     "metadata": {},
     "output_type": "execute_result"
    }
   ],
   "source": [
    "# check not available value\n",
    "print('not available Supermarket_id:', len(df[df['Supermarket_id']=='not available']), 'records')\n",
    "print('not available Distance_to_supermaket:', len(df[df['Distance_to_supermaket']==0]), 'records\\n')\n",
    "\n",
    "# check basic stat info\n",
    "print(df['Distance_to_supermaket'].describe())\n",
    "\n",
    "# check the result\n",
    "df[['Supermarket_id','Distance_to_supermaket']].head()\n"
   ]
  },
  {
   "cell_type": "markdown",
   "metadata": {},
   "source": [
    "## 2.10 Write output file<a class=\"anchor\" name=\"2.10\"></a>"
   ]
  },
  {
   "cell_type": "code",
   "execution_count": 36,
   "metadata": {},
   "outputs": [],
   "source": [
    "# set output columns\n",
    "output_cols = ['property_id', 'lat', 'lng', 'addr_street', 'suburb', 'price', 'property_type',\n",
    "               'year', 'bedrooms', 'bathrooms', 'parking_space',\n",
    "               'Shopping_center_id', 'Distance_to_sc', 'Train_station_id',\n",
    "               'Distance_to_train_station', 'travel_min_to_CBD', 'Transfer_flag',\n",
    "               'Hospital_id', 'Distance_to_hospital', 'Supermarket_id',\n",
    "               'Distance_to_supermaket']\n",
    "\n",
    "# save output file in csv\n",
    "df[output_cols].to_csv('solution.csv', index=False)"
   ]
  },
  {
   "cell_type": "markdown",
   "metadata": {},
   "source": [
    "# 3. Task 2: data reshaping <a class=\"anchor\" name=\"3\"></a>\n",
    "\n",
    "\n",
    "## 3.1 Transformation<a class=\"anchor\" name=\"3.1\"></a>"
   ]
  },
  {
   "cell_type": "markdown",
   "metadata": {},
   "source": [
    "### Linear regression assumptions\n",
    "\n",
    "As we are developing a Linear regression model, one of the key assumptions is the gaussian-like distribution. This will be boosting a model's performance. Hence, let investigate this aspect by plotting histogram, Q-Q plot, and the correlation between the target variable and selected features to see normality, and transform them into normally distributed as much as possible.\n",
    "\n",
    "\n",
    "### Exploration\n",
    "\n",
    "First of all, I would like to investigate the nature of focusing attributes."
   ]
  },
  {
   "cell_type": "code",
   "execution_count": 37,
   "metadata": {},
   "outputs": [
    {
     "data": {
      "text/html": [
       "<div>\n",
       "<style scoped>\n",
       "    .dataframe tbody tr th:only-of-type {\n",
       "        vertical-align: middle;\n",
       "    }\n",
       "\n",
       "    .dataframe tbody tr th {\n",
       "        vertical-align: top;\n",
       "    }\n",
       "\n",
       "    .dataframe thead th {\n",
       "        text-align: right;\n",
       "    }\n",
       "</style>\n",
       "<table border=\"1\" class=\"dataframe\">\n",
       "  <thead>\n",
       "    <tr style=\"text-align: right;\">\n",
       "      <th></th>\n",
       "      <th>price</th>\n",
       "      <th>Distance_to_sc</th>\n",
       "      <th>travel_min_to_CBD</th>\n",
       "      <th>Distance_to_hospital</th>\n",
       "    </tr>\n",
       "  </thead>\n",
       "  <tbody>\n",
       "    <tr>\n",
       "      <td>count</td>\n",
       "      <td>1.962000e+03</td>\n",
       "      <td>1962.000000</td>\n",
       "      <td>1962.000000</td>\n",
       "      <td>1962.000000</td>\n",
       "    </tr>\n",
       "    <tr>\n",
       "      <td>mean</td>\n",
       "      <td>9.309424e+06</td>\n",
       "      <td>2459.299694</td>\n",
       "      <td>33.324159</td>\n",
       "      <td>2212.297655</td>\n",
       "    </tr>\n",
       "    <tr>\n",
       "      <td>std</td>\n",
       "      <td>6.014301e+06</td>\n",
       "      <td>1320.772170</td>\n",
       "      <td>12.391371</td>\n",
       "      <td>1694.544702</td>\n",
       "    </tr>\n",
       "    <tr>\n",
       "      <td>min</td>\n",
       "      <td>1.104000e+06</td>\n",
       "      <td>92.000000</td>\n",
       "      <td>0.000000</td>\n",
       "      <td>69.000000</td>\n",
       "    </tr>\n",
       "    <tr>\n",
       "      <td>25%</td>\n",
       "      <td>5.283000e+06</td>\n",
       "      <td>1434.000000</td>\n",
       "      <td>23.000000</td>\n",
       "      <td>1065.000000</td>\n",
       "    </tr>\n",
       "    <tr>\n",
       "      <td>50%</td>\n",
       "      <td>7.649000e+06</td>\n",
       "      <td>2209.000000</td>\n",
       "      <td>34.000000</td>\n",
       "      <td>1748.000000</td>\n",
       "    </tr>\n",
       "    <tr>\n",
       "      <td>75%</td>\n",
       "      <td>1.136000e+07</td>\n",
       "      <td>3337.000000</td>\n",
       "      <td>41.000000</td>\n",
       "      <td>2750.000000</td>\n",
       "    </tr>\n",
       "    <tr>\n",
       "      <td>max</td>\n",
       "      <td>4.590000e+07</td>\n",
       "      <td>5957.000000</td>\n",
       "      <td>60.000000</td>\n",
       "      <td>9191.000000</td>\n",
       "    </tr>\n",
       "  </tbody>\n",
       "</table>\n",
       "</div>"
      ],
      "text/plain": [
       "              price  Distance_to_sc  travel_min_to_CBD  Distance_to_hospital\n",
       "count  1.962000e+03     1962.000000        1962.000000           1962.000000\n",
       "mean   9.309424e+06     2459.299694          33.324159           2212.297655\n",
       "std    6.014301e+06     1320.772170          12.391371           1694.544702\n",
       "min    1.104000e+06       92.000000           0.000000             69.000000\n",
       "25%    5.283000e+06     1434.000000          23.000000           1065.000000\n",
       "50%    7.649000e+06     2209.000000          34.000000           1748.000000\n",
       "75%    1.136000e+07     3337.000000          41.000000           2750.000000\n",
       "max    4.590000e+07     5957.000000          60.000000           9191.000000"
      ]
     },
     "execution_count": 37,
     "metadata": {},
     "output_type": "execute_result"
    }
   ],
   "source": [
    "df[['price','Distance_to_sc','travel_min_to_CBD','Distance_to_hospital']].describe()"
   ]
  },
  {
   "cell_type": "code",
   "execution_count": 38,
   "metadata": {},
   "outputs": [
    {
     "data": {
      "text/html": [
       "<div>\n",
       "<style scoped>\n",
       "    .dataframe tbody tr th:only-of-type {\n",
       "        vertical-align: middle;\n",
       "    }\n",
       "\n",
       "    .dataframe tbody tr th {\n",
       "        vertical-align: top;\n",
       "    }\n",
       "\n",
       "    .dataframe thead th {\n",
       "        text-align: right;\n",
       "    }\n",
       "</style>\n",
       "<table border=\"1\" class=\"dataframe\">\n",
       "  <thead>\n",
       "    <tr style=\"text-align: right;\">\n",
       "      <th></th>\n",
       "      <th>property_id</th>\n",
       "      <th>lat</th>\n",
       "      <th>lng</th>\n",
       "      <th>addr_street</th>\n",
       "      <th>price</th>\n",
       "      <th>property_type</th>\n",
       "      <th>year</th>\n",
       "      <th>bedrooms</th>\n",
       "      <th>bathrooms</th>\n",
       "      <th>parking_space</th>\n",
       "      <th>...</th>\n",
       "      <th>Shopping_center_id</th>\n",
       "      <th>Distance_to_sc</th>\n",
       "      <th>Train_station_id</th>\n",
       "      <th>Distance_to_train_station</th>\n",
       "      <th>travel_min_to_CBD</th>\n",
       "      <th>Transfer_flag</th>\n",
       "      <th>Hospital_id</th>\n",
       "      <th>Distance_to_hospital</th>\n",
       "      <th>Supermarket_id</th>\n",
       "      <th>Distance_to_supermaket</th>\n",
       "    </tr>\n",
       "  </thead>\n",
       "  <tbody>\n",
       "    <tr>\n",
       "      <td>266</td>\n",
       "      <td>11483</td>\n",
       "      <td>-37.783482</td>\n",
       "      <td>144.886078</td>\n",
       "      <td>49 Mitchell Street</td>\n",
       "      <td>6420000</td>\n",
       "      <td>house</td>\n",
       "      <td>2008</td>\n",
       "      <td>2</td>\n",
       "      <td>1</td>\n",
       "      <td>2</td>\n",
       "      <td>...</td>\n",
       "      <td>SC_085</td>\n",
       "      <td>1154</td>\n",
       "      <td>20027</td>\n",
       "      <td>1937</td>\n",
       "      <td>0</td>\n",
       "      <td>1</td>\n",
       "      <td>hospital_003</td>\n",
       "      <td>1010</td>\n",
       "      <td>S_049</td>\n",
       "      <td>1178</td>\n",
       "    </tr>\n",
       "    <tr>\n",
       "      <td>327</td>\n",
       "      <td>11429</td>\n",
       "      <td>-37.781634</td>\n",
       "      <td>144.886089</td>\n",
       "      <td>39 Pridham Street</td>\n",
       "      <td>13425000</td>\n",
       "      <td>house</td>\n",
       "      <td>2016</td>\n",
       "      <td>3</td>\n",
       "      <td>2</td>\n",
       "      <td>2</td>\n",
       "      <td>...</td>\n",
       "      <td>SC_085</td>\n",
       "      <td>956</td>\n",
       "      <td>20027</td>\n",
       "      <td>1990</td>\n",
       "      <td>0</td>\n",
       "      <td>1</td>\n",
       "      <td>hospital_003</td>\n",
       "      <td>1209</td>\n",
       "      <td>S_049</td>\n",
       "      <td>979</td>\n",
       "    </tr>\n",
       "    <tr>\n",
       "      <td>755</td>\n",
       "      <td>47</td>\n",
       "      <td>-37.815841</td>\n",
       "      <td>144.970008</td>\n",
       "      <td>7/30 Oliver Lane</td>\n",
       "      <td>21150000</td>\n",
       "      <td>house</td>\n",
       "      <td>2013</td>\n",
       "      <td>3</td>\n",
       "      <td>2</td>\n",
       "      <td>2</td>\n",
       "      <td>...</td>\n",
       "      <td>SC_106</td>\n",
       "      <td>206</td>\n",
       "      <td>19854</td>\n",
       "      <td>383</td>\n",
       "      <td>0</td>\n",
       "      <td>1</td>\n",
       "      <td>hospital_185</td>\n",
       "      <td>376</td>\n",
       "      <td>S_033</td>\n",
       "      <td>407</td>\n",
       "    </tr>\n",
       "    <tr>\n",
       "      <td>1802</td>\n",
       "      <td>1925</td>\n",
       "      <td>-37.778298</td>\n",
       "      <td>144.880007</td>\n",
       "      <td>19 Smith Street</td>\n",
       "      <td>5940000</td>\n",
       "      <td>house</td>\n",
       "      <td>2011</td>\n",
       "      <td>3</td>\n",
       "      <td>1</td>\n",
       "      <td>2</td>\n",
       "      <td>...</td>\n",
       "      <td>SC_052</td>\n",
       "      <td>798</td>\n",
       "      <td>20027</td>\n",
       "      <td>2621</td>\n",
       "      <td>0</td>\n",
       "      <td>1</td>\n",
       "      <td>hospital_056</td>\n",
       "      <td>1739</td>\n",
       "      <td>S_049</td>\n",
       "      <td>991</td>\n",
       "    </tr>\n",
       "  </tbody>\n",
       "</table>\n",
       "<p>4 rows × 21 columns</p>\n",
       "</div>"
      ],
      "text/plain": [
       "     property_id        lat         lng         addr_street     price  \\\n",
       "266        11483 -37.783482  144.886078  49 Mitchell Street   6420000   \n",
       "327        11429 -37.781634  144.886089   39 Pridham Street  13425000   \n",
       "755           47 -37.815841  144.970008    7/30 Oliver Lane  21150000   \n",
       "1802        1925 -37.778298  144.880007     19 Smith Street   5940000   \n",
       "\n",
       "     property_type  year  bedrooms  bathrooms  parking_space  ...  \\\n",
       "266          house  2008         2          1              2  ...   \n",
       "327          house  2016         3          2              2  ...   \n",
       "755          house  2013         3          2              2  ...   \n",
       "1802         house  2011         3          1              2  ...   \n",
       "\n",
       "     Shopping_center_id Distance_to_sc  Train_station_id  \\\n",
       "266              SC_085           1154             20027   \n",
       "327              SC_085            956             20027   \n",
       "755              SC_106            206             19854   \n",
       "1802             SC_052            798             20027   \n",
       "\n",
       "      Distance_to_train_station  travel_min_to_CBD  Transfer_flag  \\\n",
       "266                        1937                  0              1   \n",
       "327                        1990                  0              1   \n",
       "755                         383                  0              1   \n",
       "1802                       2621                  0              1   \n",
       "\n",
       "       Hospital_id Distance_to_hospital  Supermarket_id Distance_to_supermaket  \n",
       "266   hospital_003                 1010           S_049                   1178  \n",
       "327   hospital_003                 1209           S_049                    979  \n",
       "755   hospital_185                  376           S_033                    407  \n",
       "1802  hospital_056                 1739           S_049                    991  \n",
       "\n",
       "[4 rows x 21 columns]"
      ]
     },
     "execution_count": 38,
     "metadata": {},
     "output_type": "execute_result"
    }
   ],
   "source": [
    "df[df.travel_min_to_CBD == 0]"
   ]
  },
  {
   "cell_type": "markdown",
   "metadata": {},
   "source": [
    "### Initialise and plot histogram to check distributions.\n",
    "\n",
    "One potential problem is the travel_min_to_CBD attribute will be zero when properties have no direct trips to the Flinder station and this may influence a model incorrectly from predicting the price. Therefore, I decided to treat them as the outliers, not to include those records, and plot histogram of focusing columns such as price, Distance_to_sc, travel_min_to_CBD, and Distance_to_hospital to check the distributions of data.\n"
   ]
  },
  {
   "cell_type": "code",
   "execution_count": 39,
   "metadata": {
    "scrolled": false
   },
   "outputs": [
    {
     "data": {
      "text/plain": [
       "Text(0.5, 1.0, 'Distance to Hospital')"
      ]
     },
     "execution_count": 39,
     "metadata": {},
     "output_type": "execute_result"
    },
    {
     "data": {
      "image/png": "[encoded data removed]",
      "text/plain": [
       "<Figure size 720x576 with 4 Axes>"
      ]
     },
     "metadata": {
      "needs_background": "light"
     },
     "output_type": "display_data"
    }
   ],
   "source": [
    "# select focusing records\n",
    "selected_df = df[df.travel_min_to_CBD > 0]\n",
    "\n",
    "# initial plot variables\n",
    "fig = plt.figure(figsize=(10, 8))\n",
    "axs = fig.subplots(2, 2)\n",
    "\n",
    "# plot focusing columns such as price, Distance_to_sc, travel_min_to_CBD, Distance_to_hospital\n",
    "axs[0,0].hist(selected_df.price, color='r')\n",
    "axs[0,0].set_title('Price')\n",
    "\n",
    "axs[0,1].hist(selected_df.Distance_to_sc, color='r')\n",
    "axs[0,1].set_title('Distance to shopping center')\n",
    "\n",
    "axs[1,0].hist(selected_df.travel_min_to_CBD, color='r')\n",
    "axs[1,0].set_title('Travel time to CBD')\n",
    "\n",
    "axs[1,1].hist(selected_df.Distance_to_hospital, color='r')\n",
    "axs[1,1].set_title('Distance to Hospital')\n"
   ]
  },
  {
   "cell_type": "markdown",
   "metadata": {},
   "source": [
    "### Analyse the plots.\n",
    "\n",
    "From the figure above, the Attributes price, Distance to shopping center, and Distance to hospital are right-skewed, especially price and Distance to hospital, however, the Travel time to CBD is moderately symmetric which is acceptable in term of distribution.\n",
    "\n",
    "### Apply transformation\n",
    "\n",
    "Transforming data into normal distribution will support the training process of linear regression models. Hence, I will apply these functions as follow:\n",
    "\n",
    "- Price attribute: log function will make big right-skewed data to be symmetric very well.\n",
    "- Distance to shopping center attribute: square root function is appropriate with a small right-skewness.\n",
    "- Travel time to CBD attribute: log function might work fine, however, for this one, power of 1/4 gives a better result.\n",
    "\n",
    "\n"
   ]
  },
  {
   "cell_type": "code",
   "execution_count": 40,
   "metadata": {},
   "outputs": [],
   "source": [
    "# Tranforming data\n",
    "selected_df['trnf_price'] = np.log(selected_df.price)\n",
    "selected_df['trnf_Distance_to_sc'] = np.sqrt(selected_df.Distance_to_sc)\n",
    "selected_df['trnf_travel_min_to_CBD'] = selected_df.travel_min_to_CBD\n",
    "selected_df['trnf_Distance_to_hospital'] = np.power(selected_df.Distance_to_hospital, 0.25)\n"
   ]
  },
  {
   "cell_type": "markdown",
   "metadata": {},
   "source": [
    "### The result in histrograms"
   ]
  },
  {
   "cell_type": "code",
   "execution_count": 41,
   "metadata": {},
   "outputs": [
    {
     "data": {
      "text/plain": [
       "Text(0.5, 1.0, '(Distance to Hospital)^1/4')"
      ]
     },
     "execution_count": 41,
     "metadata": {},
     "output_type": "execute_result"
    },
    {
     "data": {
      "image/png": "[encoded data removed]",
      "text/plain": [
       "<Figure size 720x576 with 4 Axes>"
      ]
     },
     "metadata": {
      "needs_background": "light"
     },
     "output_type": "display_data"
    }
   ],
   "source": [
    "# initial plot\n",
    "fig = plt.figure(figsize=(10, 8))\n",
    "axs = fig.subplots(2, 2)\n",
    "\n",
    "# plot the resutl after tranformation process\n",
    "axs[0,0].hist(selected_df['trnf_price'])\n",
    "axs[0,0].set_title('log(Price)')\n",
    "\n",
    "axs[0,1].hist(selected_df['trnf_Distance_to_sc'])\n",
    "axs[0,1].set_title('sqrt(Distance to shopping center)')\n",
    "\n",
    "axs[1,0].hist(selected_df['trnf_travel_min_to_CBD'])\n",
    "axs[1,0].set_title('Travel time to CBD')\n",
    "\n",
    "axs[1,1].hist(selected_df['trnf_Distance_to_hospital'])\n",
    "axs[1,1].set_title('(Distance to Hospital)^1/4') "
   ]
  },
  {
   "cell_type": "markdown",
   "metadata": {},
   "source": [
    "### The result in Q-Q plots"
   ]
  },
  {
   "cell_type": "code",
   "execution_count": 42,
   "metadata": {},
   "outputs": [
    {
     "data": {
      "text/plain": [
       "Text(0.5, 1.0, '(Distance to Hospital)^1/4')"
      ]
     },
     "execution_count": 42,
     "metadata": {},
     "output_type": "execute_result"
    },
    {
     "data": {
      "image/png": "[encoded data removed]",
      "text/plain": [
       "<Figure size 864x720 with 4 Axes>"
      ]
     },
     "metadata": {
      "needs_background": "light"
     },
     "output_type": "display_data"
    }
   ],
   "source": [
    "# initial plot\n",
    "fig = plt.figure(figsize=(12, 10))\n",
    "axs = fig.subplots(2, 2)\n",
    "\n",
    "# plot the resutl after tranformation process\n",
    "stats.probplot(selected_df['trnf_price'], dist=\"norm\", plot=axs[0,0])\n",
    "axs[0,0].set_title('log(Price)')\n",
    "\n",
    "stats.probplot(selected_df['trnf_Distance_to_sc'], dist=\"norm\", plot=axs[0,1])\n",
    "axs[0,1].set_title('sqrt(Distance to shopping center)')\n",
    "\n",
    "stats.probplot((selected_df['trnf_travel_min_to_CBD']), dist=\"norm\", plot=axs[1,0])\n",
    "axs[1,0].set_title('Travel time to CBD')\n",
    "\n",
    "stats.probplot(selected_df['trnf_Distance_to_hospital'], dist=\"norm\", plot=axs[1,1])\n",
    "axs[1,1].set_title('(Distance to Hospital)^1/4') "
   ]
  },
  {
   "cell_type": "markdown",
   "metadata": {},
   "source": [
    "### The correlation of target vs transformed features\n",
    "\n",
    "The distribution after transformation is better in term of a histogram. Now let check data in another perspective which is a scatter plot. I will plot each predictor versus target variable and residual to see the the distribution in correlation.\n",
    "\n"
   ]
  },
  {
   "cell_type": "code",
   "execution_count": 43,
   "metadata": {},
   "outputs": [],
   "source": [
    "def plot_data(x, y, x_lab='X', y_lab='Y'):\n",
    "    # initial variables\n",
    "    fig = plt.figure(figsize=(8, 6))\n",
    "    axs = fig.subplots(2, 1)\n",
    "\n",
    "    # == plot predictor vs target variables ==\n",
    "    axs[0].scatter(x, y)\n",
    "    axs[0].set_title(y_lab + ' vs ' + x_lab)\n",
    "\n",
    "    # create linear regression line\n",
    "    m, b = np.polyfit(x, y, deg=1)\n",
    "    axs[0].plot(x, m*x+b, color='red')\n",
    "\n",
    "    # == Plot Residual ==\n",
    "    res = y-(m*x+b)\n",
    "    axs[1].scatter(x, res)\n",
    "    axs[1].set_title('Residual vs ' + x_lab)\n",
    "\n",
    "    # create linear regression line\n",
    "    m, b = np.polyfit(x, res, deg=1)\n",
    "    axs[1].plot(x, m*x+b, color='red')\n"
   ]
  },
  {
   "cell_type": "code",
   "execution_count": 44,
   "metadata": {},
   "outputs": [
    {
     "data": {
      "image/png": "[encoded data removed]",
      "text/plain": [
       "<Figure size 576x432 with 2 Axes>"
      ]
     },
     "metadata": {
      "needs_background": "light"
     },
     "output_type": "display_data"
    }
   ],
   "source": [
    "plot_data(selected_df.trnf_Distance_to_sc, selected_df.trnf_price, \n",
    "          'sqrt(Distance to Shopping center)', 'log(Price)')\n"
   ]
  },
  {
   "cell_type": "code",
   "execution_count": 45,
   "metadata": {},
   "outputs": [
    {
     "data": {
      "image/png": "[encoded data removed]",
      "text/plain": [
       "<Figure size 576x432 with 2 Axes>"
      ]
     },
     "metadata": {
      "needs_background": "light"
     },
     "output_type": "display_data"
    }
   ],
   "source": [
    "plot_data(selected_df.trnf_travel_min_to_CBD, selected_df.trnf_price, \n",
    "          'Travel time to CBD', 'log(Price)')\n"
   ]
  },
  {
   "cell_type": "code",
   "execution_count": 46,
   "metadata": {},
   "outputs": [
    {
     "data": {
      "image/png": "[encoded data removed]",
      "text/plain": [
       "<Figure size 576x432 with 2 Axes>"
      ]
     },
     "metadata": {
      "needs_background": "light"
     },
     "output_type": "display_data"
    }
   ],
   "source": [
    "plot_data(selected_df.trnf_Distance_to_sc, selected_df.trnf_price, \n",
    "          '(Distance to hospital)^1/4', 'log(Price)')\n"
   ]
  },
  {
   "cell_type": "markdown",
   "metadata": {},
   "source": [
    "## 3.2 Standardisation<a class=\"anchor\" name=\"3.2\"></a>\n",
    "\n",
    "### Exploration\n",
    "\n",
    "First, let see basic statistic each column with describe function and plot a line graph.\n"
   ]
  },
  {
   "cell_type": "code",
   "execution_count": 47,
   "metadata": {},
   "outputs": [
    {
     "data": {
      "text/html": [
       "<div>\n",
       "<style scoped>\n",
       "    .dataframe tbody tr th:only-of-type {\n",
       "        vertical-align: middle;\n",
       "    }\n",
       "\n",
       "    .dataframe tbody tr th {\n",
       "        vertical-align: top;\n",
       "    }\n",
       "\n",
       "    .dataframe thead th {\n",
       "        text-align: right;\n",
       "    }\n",
       "</style>\n",
       "<table border=\"1\" class=\"dataframe\">\n",
       "  <thead>\n",
       "    <tr style=\"text-align: right;\">\n",
       "      <th></th>\n",
       "      <th>trnf_Distance_to_sc</th>\n",
       "      <th>trnf_travel_min_to_CBD</th>\n",
       "      <th>trnf_Distance_to_hospital</th>\n",
       "      <th>trnf_price</th>\n",
       "    </tr>\n",
       "  </thead>\n",
       "  <tbody>\n",
       "    <tr>\n",
       "      <td>count</td>\n",
       "      <td>1958.000000</td>\n",
       "      <td>1958.000000</td>\n",
       "      <td>1958.000000</td>\n",
       "      <td>1958.000000</td>\n",
       "    </tr>\n",
       "    <tr>\n",
       "      <td>mean</td>\n",
       "      <td>47.750566</td>\n",
       "      <td>33.392237</td>\n",
       "      <td>6.518975</td>\n",
       "      <td>15.879983</td>\n",
       "    </tr>\n",
       "    <tr>\n",
       "      <td>std</td>\n",
       "      <td>13.517033</td>\n",
       "      <td>12.312005</td>\n",
       "      <td>1.243002</td>\n",
       "      <td>0.562843</td>\n",
       "    </tr>\n",
       "    <tr>\n",
       "      <td>min</td>\n",
       "      <td>9.591663</td>\n",
       "      <td>6.000000</td>\n",
       "      <td>2.882121</td>\n",
       "      <td>13.914451</td>\n",
       "    </tr>\n",
       "    <tr>\n",
       "      <td>25%</td>\n",
       "      <td>37.973675</td>\n",
       "      <td>24.000000</td>\n",
       "      <td>5.713652</td>\n",
       "      <td>15.479437</td>\n",
       "    </tr>\n",
       "    <tr>\n",
       "      <td>50%</td>\n",
       "      <td>47.015954</td>\n",
       "      <td>34.000000</td>\n",
       "      <td>6.471997</td>\n",
       "      <td>15.850085</td>\n",
       "    </tr>\n",
       "    <tr>\n",
       "      <td>75%</td>\n",
       "      <td>57.805705</td>\n",
       "      <td>41.000000</td>\n",
       "      <td>7.245524</td>\n",
       "      <td>16.245477</td>\n",
       "    </tr>\n",
       "    <tr>\n",
       "      <td>max</td>\n",
       "      <td>77.181604</td>\n",
       "      <td>60.000000</td>\n",
       "      <td>9.791308</td>\n",
       "      <td>17.641976</td>\n",
       "    </tr>\n",
       "  </tbody>\n",
       "</table>\n",
       "</div>"
      ],
      "text/plain": [
       "       trnf_Distance_to_sc  trnf_travel_min_to_CBD  trnf_Distance_to_hospital  \\\n",
       "count          1958.000000             1958.000000                1958.000000   \n",
       "mean             47.750566               33.392237                   6.518975   \n",
       "std              13.517033               12.312005                   1.243002   \n",
       "min               9.591663                6.000000                   2.882121   \n",
       "25%              37.973675               24.000000                   5.713652   \n",
       "50%              47.015954               34.000000                   6.471997   \n",
       "75%              57.805705               41.000000                   7.245524   \n",
       "max              77.181604               60.000000                   9.791308   \n",
       "\n",
       "        trnf_price  \n",
       "count  1958.000000  \n",
       "mean     15.879983  \n",
       "std       0.562843  \n",
       "min      13.914451  \n",
       "25%      15.479437  \n",
       "50%      15.850085  \n",
       "75%      16.245477  \n",
       "max      17.641976  "
      ]
     },
     "execution_count": 47,
     "metadata": {},
     "output_type": "execute_result"
    }
   ],
   "source": [
    "%matplotlib inline\n",
    "# initital variables\n",
    "feature_cols = ['trnf_Distance_to_sc', 'trnf_travel_min_to_CBD', 'trnf_Distance_to_hospital']\n",
    "target_col = ['trnf_price']\n",
    "\n",
    "# show statistic info of focusing attributes\n",
    "selected_df[feature_cols + target_col].describe()"
   ]
  },
  {
   "cell_type": "code",
   "execution_count": 48,
   "metadata": {
    "scrolled": false
   },
   "outputs": [
    {
     "data": {
      "text/plain": [
       "<matplotlib.legend.Legend at 0x7fac0db54ad0>"
      ]
     },
     "execution_count": 48,
     "metadata": {},
     "output_type": "execute_result"
    },
    {
     "data": {
      "image/png": "[encoded data removed]",
      "text/plain": [
       "<Figure size 720x432 with 1 Axes>"
      ]
     },
     "metadata": {
      "needs_background": "light"
     },
     "output_type": "display_data"
    }
   ],
   "source": [
    "# plot a line graph\n",
    "selected_df[\"trnf_Distance_to_sc\"].plot(figsize=(10,6), label='sqrt(Distance to Shopping center)'), \n",
    "selected_df[\"trnf_travel_min_to_CBD\"].plot(label='Travel time to CBD'), \n",
    "selected_df[\"trnf_Distance_to_hospital\"].plot(label='(Distance to Hospital)^1/4')\n",
    "\n",
    "# set legend\n",
    "plt.legend(loc='upper right')"
   ]
  },
  {
   "cell_type": "markdown",
   "metadata": {},
   "source": [
    "### Analyse the result\n",
    "\n",
    "From the statistic information, it is obvious that all three features have different ranges of values. For instance, the `Distance to hospital^1/4` has a value between 2.8 and 9.7, whereas the `Travel time to CBD` is between 6 and 60. Since the Attributes which are the larger value will influence others, once training a model. Thus, to boost up the performance, those features should be normalised to be the same scale.\n"
   ]
  },
  {
   "cell_type": "markdown",
   "metadata": {},
   "source": [
    "### Standardisation with z-score\n",
    "\n",
    "There are several methods to normalise data such as min-max and z-score. For the min-max method, it will squeeze data in a range 0 and 1, so, the data will lose some information like detecting outliers. Thus, I would apply the z-score method in this task with preprocessing in sklearn library.\n"
   ]
  },
  {
   "cell_type": "code",
   "execution_count": 49,
   "metadata": {
    "scrolled": true
   },
   "outputs": [
    {
     "data": {
      "text/html": [
       "<div>\n",
       "<style scoped>\n",
       "    .dataframe tbody tr th:only-of-type {\n",
       "        vertical-align: middle;\n",
       "    }\n",
       "\n",
       "    .dataframe tbody tr th {\n",
       "        vertical-align: top;\n",
       "    }\n",
       "\n",
       "    .dataframe thead th {\n",
       "        text-align: right;\n",
       "    }\n",
       "</style>\n",
       "<table border=\"1\" class=\"dataframe\">\n",
       "  <thead>\n",
       "    <tr style=\"text-align: right;\">\n",
       "      <th></th>\n",
       "      <th>trnf_Distance_to_sc</th>\n",
       "      <th>trnf_travel_min_to_CBD</th>\n",
       "      <th>trnf_Distance_to_hospital</th>\n",
       "      <th>scaled_D2_SC</th>\n",
       "      <th>scaled_T2_CBD</th>\n",
       "      <th>scaled_D2_H</th>\n",
       "    </tr>\n",
       "  </thead>\n",
       "  <tbody>\n",
       "    <tr>\n",
       "      <td>0</td>\n",
       "      <td>46.000000</td>\n",
       "      <td>35</td>\n",
       "      <td>8.343454</td>\n",
       "      <td>-0.129541</td>\n",
       "      <td>0.130618</td>\n",
       "      <td>1.468176</td>\n",
       "    </tr>\n",
       "    <tr>\n",
       "      <td>1</td>\n",
       "      <td>58.000000</td>\n",
       "      <td>20</td>\n",
       "      <td>6.254216</td>\n",
       "      <td>0.758454</td>\n",
       "      <td>-1.088016</td>\n",
       "      <td>-0.213054</td>\n",
       "    </tr>\n",
       "    <tr>\n",
       "      <td>2</td>\n",
       "      <td>52.810984</td>\n",
       "      <td>33</td>\n",
       "      <td>7.193705</td>\n",
       "      <td>0.374469</td>\n",
       "      <td>-0.031866</td>\n",
       "      <td>0.542962</td>\n",
       "    </tr>\n",
       "    <tr>\n",
       "      <td>3</td>\n",
       "      <td>51.410116</td>\n",
       "      <td>26</td>\n",
       "      <td>5.080057</td>\n",
       "      <td>0.270805</td>\n",
       "      <td>-0.600562</td>\n",
       "      <td>-1.157912</td>\n",
       "    </tr>\n",
       "    <tr>\n",
       "      <td>4</td>\n",
       "      <td>40.024992</td>\n",
       "      <td>33</td>\n",
       "      <td>7.636628</td>\n",
       "      <td>-0.571690</td>\n",
       "      <td>-0.031866</td>\n",
       "      <td>0.899386</td>\n",
       "    </tr>\n",
       "  </tbody>\n",
       "</table>\n",
       "</div>"
      ],
      "text/plain": [
       "   trnf_Distance_to_sc  trnf_travel_min_to_CBD  trnf_Distance_to_hospital  \\\n",
       "0            46.000000                      35                   8.343454   \n",
       "1            58.000000                      20                   6.254216   \n",
       "2            52.810984                      33                   7.193705   \n",
       "3            51.410116                      26                   5.080057   \n",
       "4            40.024992                      33                   7.636628   \n",
       "\n",
       "   scaled_D2_SC  scaled_T2_CBD  scaled_D2_H  \n",
       "0     -0.129541       0.130618     1.468176  \n",
       "1      0.758454      -1.088016    -0.213054  \n",
       "2      0.374469      -0.031866     0.542962  \n",
       "3      0.270805      -0.600562    -1.157912  \n",
       "4     -0.571690      -0.031866     0.899386  "
      ]
     },
     "execution_count": 49,
     "metadata": {},
     "output_type": "execute_result"
    }
   ],
   "source": [
    "# scaling all features with preprocessing library\n",
    "std_scale = preprocessing.StandardScaler().fit(selected_df[feature_cols])\n",
    "df_std = std_scale.transform(selected_df[feature_cols])\n",
    "\n",
    "# set scaled column names\n",
    "scaled_cols = ['scaled_D2_SC', 'scaled_T2_CBD', 'scaled_D2_H']\n",
    "\n",
    "# parse scaled data into dataframe\n",
    "selected_df['scaled_D2_SC'] = df_std[:,0]  # 'D2_SC_scaled' is Distance_to_sc scaled\n",
    "selected_df['scaled_T2_CBD'] = df_std[:,1] # 'T2_CBD_scaled' is travel_min_to_CBD scaled\n",
    "selected_df['scaled_D2_H'] = df_std[:,2]   # 'D2_H_scaled' is Distance_to_hospital scaled\n",
    "\n",
    "# show a sample result \n",
    "selected_df[feature_cols + scaled_cols].head()\n"
   ]
  },
  {
   "cell_type": "code",
   "execution_count": 50,
   "metadata": {},
   "outputs": [
    {
     "data": {
      "text/html": [
       "<div>\n",
       "<style scoped>\n",
       "    .dataframe tbody tr th:only-of-type {\n",
       "        vertical-align: middle;\n",
       "    }\n",
       "\n",
       "    .dataframe tbody tr th {\n",
       "        vertical-align: top;\n",
       "    }\n",
       "\n",
       "    .dataframe thead th {\n",
       "        text-align: right;\n",
       "    }\n",
       "</style>\n",
       "<table border=\"1\" class=\"dataframe\">\n",
       "  <thead>\n",
       "    <tr style=\"text-align: right;\">\n",
       "      <th></th>\n",
       "      <th>scaled_D2_SC</th>\n",
       "      <th>scaled_T2_CBD</th>\n",
       "      <th>scaled_D2_H</th>\n",
       "    </tr>\n",
       "  </thead>\n",
       "  <tbody>\n",
       "    <tr>\n",
       "      <td>count</td>\n",
       "      <td>1.958000e+03</td>\n",
       "      <td>1.958000e+03</td>\n",
       "      <td>1.958000e+03</td>\n",
       "    </tr>\n",
       "    <tr>\n",
       "      <td>mean</td>\n",
       "      <td>-4.849146e-16</td>\n",
       "      <td>1.373320e-16</td>\n",
       "      <td>-2.199608e-16</td>\n",
       "    </tr>\n",
       "    <tr>\n",
       "      <td>std</td>\n",
       "      <td>1.000255e+00</td>\n",
       "      <td>1.000255e+00</td>\n",
       "      <td>1.000255e+00</td>\n",
       "    </tr>\n",
       "    <tr>\n",
       "      <td>min</td>\n",
       "      <td>-2.823745e+00</td>\n",
       "      <td>-2.225408e+00</td>\n",
       "      <td>-2.926611e+00</td>\n",
       "    </tr>\n",
       "    <tr>\n",
       "      <td>25%</td>\n",
       "      <td>-7.234863e-01</td>\n",
       "      <td>-7.630468e-01</td>\n",
       "      <td>-6.480514e-01</td>\n",
       "    </tr>\n",
       "    <tr>\n",
       "      <td>50%</td>\n",
       "      <td>-5.436098e-02</td>\n",
       "      <td>4.937606e-02</td>\n",
       "      <td>-3.780363e-02</td>\n",
       "    </tr>\n",
       "    <tr>\n",
       "      <td>75%</td>\n",
       "      <td>7.440766e-01</td>\n",
       "      <td>6.180721e-01</td>\n",
       "      <td>5.846608e-01</td>\n",
       "    </tr>\n",
       "    <tr>\n",
       "      <td>max</td>\n",
       "      <td>2.177886e+00</td>\n",
       "      <td>2.161676e+00</td>\n",
       "      <td>2.633278e+00</td>\n",
       "    </tr>\n",
       "  </tbody>\n",
       "</table>\n",
       "</div>"
      ],
      "text/plain": [
       "       scaled_D2_SC  scaled_T2_CBD   scaled_D2_H\n",
       "count  1.958000e+03   1.958000e+03  1.958000e+03\n",
       "mean  -4.849146e-16   1.373320e-16 -2.199608e-16\n",
       "std    1.000255e+00   1.000255e+00  1.000255e+00\n",
       "min   -2.823745e+00  -2.225408e+00 -2.926611e+00\n",
       "25%   -7.234863e-01  -7.630468e-01 -6.480514e-01\n",
       "50%   -5.436098e-02   4.937606e-02 -3.780363e-02\n",
       "75%    7.440766e-01   6.180721e-01  5.846608e-01\n",
       "max    2.177886e+00   2.161676e+00  2.633278e+00"
      ]
     },
     "execution_count": 50,
     "metadata": {},
     "output_type": "execute_result"
    }
   ],
   "source": [
    "# show basic statistic info\n",
    "selected_df[scaled_cols].describe()\n"
   ]
  },
  {
   "cell_type": "markdown",
   "metadata": {},
   "source": [
    "Here we can see the scaled features are adjusted in the similar range and the mean values are very close to zero which means the data is significantly normal distributed.\n"
   ]
  },
  {
   "cell_type": "code",
   "execution_count": 51,
   "metadata": {},
   "outputs": [
    {
     "data": {
      "text/plain": [
       "<matplotlib.legend.Legend at 0x7fac0d9b9650>"
      ]
     },
     "execution_count": 51,
     "metadata": {},
     "output_type": "execute_result"
    },
    {
     "data": {
      "image/png": "[encoded data removed]",
      "text/plain": [
       "<Figure size 720x432 with 1 Axes>"
      ]
     },
     "metadata": {
      "needs_background": "light"
     },
     "output_type": "display_data"
    }
   ],
   "source": [
    "selected_df[\"scaled_D2_SC\"].plot(figsize=(10,6), label='Scaled sqrt(Distance to Shopping center)'), \n",
    "selected_df[\"scaled_T2_CBD\"].plot(label='Scaled Travel time to CBD'), \n",
    "selected_df[\"scaled_D2_H\"].plot(label='Scaled (Distance to Hospital)^1/4')\n",
    "\n",
    "plt.legend(loc='upper right')"
   ]
  },
  {
   "cell_type": "markdown",
   "metadata": {},
   "source": [
    "### Evaluate result\n",
    "\n",
    "After scaling transformed features, data align on the same scale clearly and this will improve performance when using this reshaped dataframe.\n"
   ]
  },
  {
   "cell_type": "code",
   "execution_count": 52,
   "metadata": {},
   "outputs": [
    {
     "data": {
      "text/plain": [
       "Text(0.5, 1.0, 'Tranformed: log(price)')"
      ]
     },
     "execution_count": 52,
     "metadata": {},
     "output_type": "execute_result"
    },
    {
     "data": {
      "image/png": "[encoded data removed]",
      "text/plain": [
       "<Figure size 1008x864 with 12 Axes>"
      ]
     },
     "metadata": {
      "needs_background": "light"
     },
     "output_type": "display_data"
    }
   ],
   "source": [
    "# compare with original data distribution\n",
    "\n",
    "# initital plot\n",
    "fig = plt.figure(figsize=(14, 12))\n",
    "axs = fig.subplots(4, 3)\n",
    "\n",
    "# plot changing each step of features\n",
    "# Distance_to_sc\n",
    "axs[0,0].hist(selected_df.Distance_to_sc, color='r')\n",
    "axs[0,0].set_title('Distance to shopping center')\n",
    "axs[0,1].hist(selected_df.trnf_Distance_to_sc)\n",
    "axs[0,1].set_title('Tranformed: sqrt(Distance to shopping center)')\n",
    "axs[0,2].hist(selected_df.scaled_D2_SC, color='g')\n",
    "axs[0,2].set_title('Scaled: sqrt(Distance to shopping center)')\n",
    "\n",
    "# travel_min_to_CBD\n",
    "axs[1,0].hist(selected_df.travel_min_to_CBD, color='r')\n",
    "axs[1,0].set_title('Travel time to CBD')\n",
    "axs[1,1].hist(selected_df.trnf_travel_min_to_CBD)\n",
    "axs[1,1].set_title('Travel time to CBD')\n",
    "axs[1,2].hist(selected_df.scaled_T2_CBD, color='g')\n",
    "axs[1,2].set_title('Scaled: Travel time to CBD')\n",
    "\n",
    "# Distance_to_hospital\n",
    "axs[2,0].hist(selected_df.Distance_to_hospital, color='r')\n",
    "axs[2,0].set_title('Distance to hospital')\n",
    "axs[2,1].hist(selected_df.trnf_Distance_to_hospital)\n",
    "axs[2,1].set_title('Tranformed: (Distance to Hospital)^1/4')\n",
    "axs[2,2].hist(selected_df.scaled_D2_H, color='g')\n",
    "axs[2,2].set_title('Scaled: (Distance to Hospital)^1/4')\n",
    "\n",
    "# Price\n",
    "axs[3,0].hist(selected_df.price, color='r')\n",
    "axs[3,0].set_title('price')\n",
    "axs[3,1].hist(selected_df.trnf_price)\n",
    "axs[3,1].set_title('Tranformed: log(price)')\n"
   ]
  },
  {
   "cell_type": "markdown",
   "metadata": {},
   "source": [
    "## 3.3 Summary<a class=\"anchor\" name=\"3.3\"></a>\n",
    "\n",
    "From the figure, we can notice how transformation effect a distribution of data, whereas, scaling will reserve the distribution as the same. Although, both standardisation and transformation are a significantly crucial process to make data ready before building an efficient linear regression model.\n"
   ]
  },
  {
   "cell_type": "markdown",
   "metadata": {},
   "source": [
    "# 4. Conclusion<a class=\"anchor\" name=\"4\"></a>\n",
    "\n",
    "In order to successfully complete a Data Integration and Reshaping process, a variety of skills is required. For instance, dealing with different file extensions and extract data, gathering datasets and merging data into one standard, transforming data to be ready to consume, etc. These are very significant knowledge for data scientists. Besides, it takes a vital portion of time in a development cycle and influences the quality of models additionally.\n",
    "\n"
   ]
  },
  {
   "cell_type": "markdown",
   "metadata": {},
   "source": [
    "## Referances\n",
    "\n",
    "- Barney, H. (2020). *How to Export Pandas DataFrame to CSV.* Retrieved from \n",
    "https://towardsdatascience.com/how-to-export-pandas-dataframe-to-csv-2038e43d9c03\n",
    "\n",
    "- Gillies, S. (2020) *The Shapely User Manual.* Retrieved from https://shapely.readthedocs.io/en/stable/manual.html\n",
    "\n",
    "- Lakshmanan S. (2019). *How, When, and Why Should You Normalize / Standardize / Rescale Your Data?.* Retrieved from https://towardsai.net/p/data-science/how-when-and-why-should-you-normalize-standardize-rescale-your-data-3f083def38ff\n",
    "\n",
    "- Naik, G. (2020). *Feature Engineering-How to Transform Data to Better Fit The Gaussian Distribution-Data Science.* Retrieved from https://www.youtube.com/watch?v=U_wKdCBC-w0\n",
    "\n",
    "- Rocha, B. (2011). *Calculate distance between latitude longitude pairs with Python.* Retrieved from https://gist.github.com/rochacbruno/2883505\n",
    "\n",
    "- Tenkanen, H. (2018). *Point in Polygon & Intersect.* Retrieved from https://automating-gis-processes.github.io/CSC18/lessons/L4/point-in-polygon.html\n",
    "\n",
    "- statisticssolutions.com. (n.d.). *Assumptions of Linear Regression.* Retrieved from https://www.statisticssolutions.com/assumptions-of-linear-regression/?__cf_chl_jschl_tk__=013839d4c821f1d6e68b5804454de5b8c3c25ae3-1605681117-0-Acr7E-0G-yMEzxt6sOs7LYel39Xi9PyamRHjkwP9xcMtkYWncPugTEx9tkfhh5iyHAX8J3LUBFNe-Avf-xs3-PFWg1h4RpJz8Lmd2CIhhZpGiLQplH_xezfKW4DOfc_sb31zQOLpONaMzuFbZfOAT5sX2CIiYl52kYdByojLf8MTwyGqANpwj_PMqTNmrjJVkSkjq1R_-sDq-rUJ31xfU4Oes6UKdDU-_uh_vM21MXDD20F1ROwl9MXMI2hXQlDr8U4HDtQ2uXqfRL7qr3UTF6c0NuP5Aw_T4LiMUy46SObOIAppw82UvVtp4ShsgE4cipcZJtcXe1pDrYIko9PI5K3PCyhdBs81Pg46ZxmQP76d"
   ]
  }
 ],
 "metadata": {
  "kernelspec": {
   "display_name": "Python 3",
   "language": "python",
   "name": "python3"
  },
  "language_info": {
   "codemirror_mode": {
    "name": "ipython",
    "version": 3
   },
   "file_extension": ".py",
   "mimetype": "text/x-python",
   "name": "python",
   "nbconvert_exporter": "python",
   "pygments_lexer": "ipython3",
   "version": "3.7.4"
  }
 },
 "nbformat": 4,
 "nbformat_minor": 1
}
